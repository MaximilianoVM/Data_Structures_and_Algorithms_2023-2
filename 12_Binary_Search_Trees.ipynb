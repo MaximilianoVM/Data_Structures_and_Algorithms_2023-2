{
 "cells": [
  {
   "cell_type": "markdown",
   "metadata": {},
   "source": [
    "<h1>Binary search tree (BST) </h1>"
   ]
  },
  {
   "cell_type": "code",
   "execution_count": 7,
   "metadata": {},
   "outputs": [],
   "source": [
    "class Node:\n",
    "    def __init__(self, data):\n",
    "        self.data = data\n",
    "        self.right_child = None\n",
    "        self.left_child = None"
   ]
  },
  {
   "cell_type": "code",
   "execution_count": 8,
   "metadata": {},
   "outputs": [
    {
     "name": "stdout",
     "output_type": "stream",
     "text": [
      "root node\n",
      "left child node\n",
      "left grandchild node\n"
     ]
    }
   ],
   "source": [
    "n1 = Node(\"root node\")\n",
    "n2 = Node(\"left child node\")\n",
    "n3 = Node(\"right child node\")\n",
    "n4 = Node(\"left grandchild node\")\n",
    "n1.left_child = n2\n",
    "n1.right_child = n3\n",
    "n2.left_child = n4\n",
    "\n",
    "current = n1\n",
    "while current:\n",
    "    print (current.data)\n",
    "    current = current.left_child"
   ]
  },
  {
   "cell_type": "markdown",
   "metadata": {},
   "source": [
    "<h2>Tree class</h2>"
   ]
  },
  {
   "cell_type": "code",
   "execution_count": 9,
   "metadata": {},
   "outputs": [],
   "source": [
    "class Tree:\n",
    "    def __init__(self):\n",
    "        self.root_node = None\n",
    "    #max and min\n",
    "    def find_min (self):\n",
    "        current = self.root_node\n",
    "        while current.left_child:\n",
    "            current = current.left_child\n",
    "        return current\n",
    "    def find_max (self):\n",
    "        current = self.root_node\n",
    "        while current.right_child:\n",
    "            current = current.right_child\n",
    "        return current\n",
    "    #insert\n",
    "    def insert (self, data):\n",
    "        node = Node(data)\n",
    "        if self.root_node is None:\n",
    "            self.root_node = node\n",
    "        else:\n",
    "            current = self.toot_node\n",
    "            parent = None\n",
    "        while True:\n",
    "            parent = current \n",
    "            if node.data < parent.data:\n",
    "                current = current.left_child\n",
    "                if current is None: \n",
    "                    parent.left_child = node \n",
    "                    return \n",
    "            else: \n",
    "                current = current.right_child \n",
    "                if current is None: \n",
    "                    parent.right_child = node\n",
    "                    return\n",
    "    #searching \n",
    "    def search (self, data):\n",
    "        current = self.root_node\n",
    "        while True:\n",
    "            if current is None:\n",
    "                return None\n",
    "            \n",
    "            elif current.data is data:\n",
    "                return data\n",
    "            elif current.data > data:\n",
    "                current = current.left_child\n",
    "            else:\n",
    "                current = current.right_child\n",
    "    #search parent node\n",
    "    def get_node_with_parent(self, data):\n",
    "        parent = None \n",
    "        current = self.root_node \n",
    "        if current is None: \n",
    "            return (parent, None)\n",
    "        while True: \n",
    "            if current.data == data: \n",
    "                return (parent, current)\n",
    "            elif current.data > data: \n",
    "                parent = current \n",
    "                current = current.left_child\n",
    "            else: \n",
    "                parent = current\n",
    "                current = current.right_child\n",
    "                \n",
    "        return (parent, current)\n",
    "    \n",
    "    #deleting nodes\n",
    "    def remove(self, data):\n",
    "        parent, node = self.get_node_with_parent(data)\n",
    "        \n",
    "        if parent is None and node is None: \n",
    "            return False \n",
    "\n",
    "        #get children count \n",
    "        children_count = 0 \n",
    "        \n",
    "        if node.left_child and node.right_child: \n",
    "            children_count = 2 \n",
    "        elif (node.left_child is None) and (node.right_child is None): \n",
    "            children_count = 0 \n",
    "        else: \n",
    "            children_count = 1 \n",
    "        \n",
    "        if children_count == 0: \n",
    "            if parent: \n",
    "                if parent.right_child is node: \n",
    "                    parent.right_child = None\n",
    "                else: \n",
    "                    parent.left_child = None \n",
    "            else: \n",
    "                self.root_node = None\n",
    "        \n",
    "        elif children_count == 1: \n",
    "            next_node = None \n",
    "            if node.left_child: \n",
    "                next_node = node.left_child\n",
    "            else: \n",
    "                next_node = node.right_child\n",
    "            \n",
    "            if parent: \n",
    "                if parent.left_child is node: \n",
    "                    parent.left_child = next_node\n",
    "                else: \n",
    "                    parent.right_child = next_node\n",
    "            else: \n",
    "                self.root_node = next_node\n",
    "        else:\n",
    "            parent_of_leftmost_node = node \n",
    "            leftmost_node = node.right_child\n",
    "            while leftmost_node.left_child: \n",
    "                parent_of_leftmost_node = leftmost_node\n",
    "                leftmost_node = leftmost_node.left_child\n",
    "            \n",
    "            node.data = leftmost_node.data \n",
    "\n",
    "            if parent_of_leftmost_node.left_child == leftmost_node: \n",
    "                parent_of_leftmost_node.left_child = leftmost_node.right_child\n",
    "            else: \n",
    "                parent_of_leftmost_node.right_child = leftmost_node.right_child\n",
    "            \n",
    "                \n",
    "    "
   ]
  },
  {
   "cell_type": "markdown",
   "metadata": {},
   "source": [
    "![Alt text](image-20.png)"
   ]
  },
  {
   "cell_type": "code",
   "execution_count": null,
   "metadata": {},
   "outputs": [],
   "source": []
  }
 ],
 "metadata": {
  "kernelspec": {
   "display_name": "Python 3",
   "language": "python",
   "name": "python3"
  },
  "language_info": {
   "codemirror_mode": {
    "name": "ipython",
    "version": 3
   },
   "file_extension": ".py",
   "mimetype": "text/x-python",
   "name": "python",
   "nbconvert_exporter": "python",
   "pygments_lexer": "ipython3",
   "version": "3.11.4"
  },
  "orig_nbformat": 4
 },
 "nbformat": 4,
 "nbformat_minor": 2
}
