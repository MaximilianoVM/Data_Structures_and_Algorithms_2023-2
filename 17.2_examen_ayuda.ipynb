{
 "cells": [
  {
   "cell_type": "code",
   "execution_count": 2,
   "metadata": {},
   "outputs": [],
   "source": [
    "class Heap:\n",
    "    def __init__(self):\n",
    "        self.heap = [0]\n",
    "        self.size = 0\n",
    "        \n",
    "    #/////----- INSERT OPERATION -----/////\n",
    "    def arrange(self, k):\n",
    "        while k // 2 > 0:\n",
    "            if self.heap[k] < self.heap[k//2]:\n",
    "                self.heap[k], self.heap[k//2] = self.heap[k//2], self.heap[k]\n",
    "            k //= 2\n",
    "    \n",
    "    def insert(self, item):\n",
    "        self.heap.append(item)\n",
    "        self.size += 1\n",
    "        self.arrange(self.size)\n",
    "    \n",
    "    #/////----- POP OPERATION -----/////\n",
    "    def minindex(self, k):\n",
    "        if k * 2 + 1 > self.size:\n",
    "            return k * 2\n",
    "        elif self.heap[k*2] < self.heap[k*2+1]:\n",
    "            return k * 2\n",
    "        else:\n",
    "            return k * 2 + 1\n",
    "    \n",
    "    def sink(self, k):\n",
    "        while k*2 <= self.size:\n",
    "            mi = self.minindex(k)\n",
    "            if self.heap[k] > self.heap[mi]:\n",
    "                self.heap[k], self.heap[mi] = self.heap[mi], self.heap[k]\n",
    "            k = mi\n",
    "    def pop(self):\n",
    "        item = self.heap[1]\n",
    "        self.heap[1] = self.heap[self.size]\n",
    "        self.size -= 1\n",
    "        self.heap.pop()\n",
    "        self.sink(1)\n",
    "        return item\n",
    "    \n",
    "    def heap_sort(self):\n",
    "        sorted_list = []\n",
    "        for node in range(self.size):\n",
    "            n = self.pop()\n",
    "            sorted_list.append(n)\n",
    "        return sorted_list\n",
    "            \n",
    "    "
   ]
  },
  {
   "cell_type": "code",
   "execution_count": null,
   "metadata": {},
   "outputs": [],
   "source": [
    "pacientes = [{\"max\":'nervios', \"norman\":'gripa', \"valeria\":'fractura',\n",
    "              \"samuel\":'nervios', \"asael\":'diabetes', \"raul\":'diabetes'}]\n",
    "\n",
    "def prioridad():\n",
    "    prioridad = 0\n",
    "    if padecimiento == 'nervios' or 'diabetes' or 'cancer': prioridad = 2\n",
    "    elif padecimiento == 'gripa': prioridad = 3\n",
    "    elif padecimiento == 'herida': prioridad = 4\n",
    "    elif padecimiento == 'fractura' or 'parto': prioridad = 5\n",
    "    else: prioridad = 1\n",
    "\n",
    "    return prioridad"
   ]
  }
 ],
 "metadata": {
  "kernelspec": {
   "display_name": "Python 3",
   "language": "python",
   "name": "python3"
  },
  "language_info": {
   "codemirror_mode": {
    "name": "ipython",
    "version": 3
   },
   "file_extension": ".py",
   "mimetype": "text/x-python",
   "name": "python",
   "nbconvert_exporter": "python",
   "pygments_lexer": "ipython3",
   "version": "3.11.4"
  }
 },
 "nbformat": 4,
 "nbformat_minor": 2
}
