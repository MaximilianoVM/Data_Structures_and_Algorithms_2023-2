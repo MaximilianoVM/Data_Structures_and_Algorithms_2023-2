{
 "cells": [
  {
   "cell_type": "code",
   "execution_count": 1,
   "metadata": {},
   "outputs": [],
   "source": [
    "class Node(object):\n",
    "    def __init__(self, data=None, next=None, prev=None):\n",
    "        self.data = data\n",
    "        self.next = next\n",
    "        self.prev = prev"
   ]
  },
  {
   "cell_type": "markdown",
   "metadata": {},
   "source": [
    "<h1>Doubly linked lists</h1>"
   ]
  },
  {
   "cell_type": "code",
   "execution_count": 2,
   "metadata": {},
   "outputs": [],
   "source": [
    "class DoublyLinkedList(object):\n",
    "    def __init__(self): #iniciador \n",
    "        self.head = None\n",
    "        self.tail = None\n",
    "        self.count = 0\n",
    "    \n",
    "    # A P P E N D =====================================================================        \n",
    "    def append(self, data):\n",
    "        new_node = Node(data)\n",
    "        \n",
    "        #>>si esta vacia no habra head\n",
    "        if self.head is None:\n",
    "            self.head = new_node    #hacemos al unico nuevo elemento head\n",
    "            self.tail = self.head   #tambien lo hacemos tail: new = head = tail\n",
    "\n",
    "        #>>si hay head, la cola tiene al menos un elemento\n",
    "        else:                       \n",
    "            new_node.prev = self.tail   #enlazamos al nuevo con prev= la cola original\n",
    "            self.tail.next = new_node   #enlazamos la cola original con next= nuevo\n",
    "                                        #ya estan enlazados\n",
    "            self.tail = new_node        #la nueva cola es el nuevo elemento\n",
    "        self.count += 1\n",
    "        \n",
    "    # D E L E T E =====================================================================\n",
    "    def delete(self, data):\n",
    "        current = self.head #current es el que estamos revisanto (data es el que queremos borrar)\n",
    "        node_deleted = False\n",
    "\n",
    "        #>>si ya estaba VACIO\n",
    "        if current is None: \n",
    "            node_deleted = False\n",
    "\n",
    "        #>>si el objetivo esta EN HEAD\n",
    "        elif current.data == data:\n",
    "            self.head = current.next     #recorremos head\n",
    "            if self.head:                #si el nuevo head != None\n",
    "                self.head.prev = None    #borramos su enlace con el antiguo head (si nuevo head fuera none saldria error)\n",
    "            node_deleted = True\n",
    "\n",
    "        #>>si el objetivo esta EN TAIL\n",
    "        elif self.tail.data == data:\n",
    "            self.tail = self.tail.prev\n",
    "            self.tail.next = None\n",
    "            node_deleted = True\n",
    "\n",
    "        #si no estuvo: vacio, en head ni en tail (esta EN MEDIO)\n",
    "        else:\n",
    "            while current:                  #mientras current != None\n",
    "                if current.data == data:    #si encuentra el elemento\n",
    "                    #no borra el elemento, enlaza a sus vecinos y lo ignora\n",
    "                    current.prev.next = current.next \n",
    "                    current.next.prev = current.prev\n",
    "                    node_deleted = True\n",
    "                current = current.next #recorre todos los elementos hasta que current = None\n",
    "\n",
    "        if node_deleted:\n",
    "            self.count -= 1\n",
    "\n",
    "    def __iter__(self):\n",
    "        current = self.head\n",
    "        while current:\n",
    "            val = current.data      #almacenamos current en val\n",
    "            current = current.next  #current ahora es el siguiente elemento\n",
    "            yield val\n",
    "    '''yield val: Finalmente, esta línea utiliza yield para producir (yield) el valor val en cada iteración. \n",
    "       Esto permite que la función actúe como un generador, lo que significa que cuando se recorre la instancia \n",
    "       de esta clase en un bucle for, se generará y devolverá sucesivamente los valores almacenados en val, uno a uno.'''\n",
    "\n",
    "    def contains(self, data):\n",
    "        for node_data in self:\n",
    "            if data == node_data:\n",
    "                return True\n",
    "        return False\n",
    "    "
   ]
  },
  {
   "cell_type": "markdown",
   "metadata": {},
   "source": [
    "<h1>Queues</h1>"
   ]
  },
  {
   "cell_type": "code",
   "execution_count": 3,
   "metadata": {},
   "outputs": [],
   "source": [
    "class Queue: \n",
    "    def __init__(self):\n",
    "        self.head = None \n",
    "        self.tail = None \n",
    "        self.count = 0 \n",
    "    \n",
    "    def enqueue(self, data):\n",
    "        new_node = Node(data, None, None)\n",
    "        if self.head is None: #si esta vacía\n",
    "            self.head = new_node\n",
    "            self.tail = self.head\n",
    "        else:                 #si no esta vacía \n",
    "            new_node.prev = self.tail   #se enlazan\n",
    "            self.tail.next = new_node\n",
    "            \n",
    "            self.tail = new_node        #el nuevo es la nueva cola\n",
    "        self.count += 1\n",
    "        \n",
    "    def dequeue(self):\n",
    "        current = self.head\n",
    "        if self.count == 0:\n",
    "            print(\"no\")\n",
    "            return False\n",
    "        elif self.count ==1:\n",
    "            self.count -= 1\n",
    "            self.head = None \n",
    "            self.tail = None \n",
    "            return current\n",
    "        elif self.count > 1: \n",
    "            self.head = self.head.next\n",
    "            self.head.prev = None \n",
    "            self.count -= 1\n",
    "            return current\n",
    "        else:\n",
    "            print(\"FALLA EN DEQUEUE\")\n",
    "            "
   ]
  },
  {
   "cell_type": "markdown",
   "metadata": {},
   "source": [
    "<h3>Media player queue</h3>"
   ]
  },
  {
   "cell_type": "code",
   "execution_count": 4,
   "metadata": {},
   "outputs": [],
   "source": [
    "from random import randint\n",
    "class Track: \n",
    "    def __init__(self, title=None):\n",
    "        self.title = title\n",
    "        self.length = randint(2,4)"
   ]
  },
  {
   "cell_type": "code",
   "execution_count": 5,
   "metadata": {},
   "outputs": [],
   "source": [
    "import time \n",
    "class MediaPlayerQueue(Queue):\n",
    "    def __init__(self):\n",
    "        super(MediaPlayerQueue, self).__init__()\n",
    "    def add_track(self, track):\n",
    "        self.enqueue(track)\n",
    "    def play(self):\n",
    "        while self.count >0: \n",
    "            current_track_node = self.dequeue()\n",
    "            print(\"now playing {}, ({}s)\".format(current_track_node.data.title, current_track_node.data.length))\n",
    "            time.sleep(current_track_node.data.length)"
   ]
  },
  {
   "cell_type": "markdown",
   "metadata": {},
   "source": [
    "<h1>Binary search and trees</h1>"
   ]
  },
  {
   "cell_type": "markdown",
   "metadata": {},
   "source": [
    "Tree nodes"
   ]
  },
  {
   "cell_type": "code",
   "execution_count": 6,
   "metadata": {},
   "outputs": [],
   "source": [
    "class tNode: \n",
    "    def __init__(self, data):\n",
    "        self.data = data \n",
    "        self.right_child = None \n",
    "        self.left_child = None "
   ]
  },
  {
   "cell_type": "code",
   "execution_count": 7,
   "metadata": {},
   "outputs": [],
   "source": [
    "n1 = tNode(\"root node\")\n",
    "n2 = tNode(\"left child node\")\n",
    "n3 = tNode(\"right child node\")\n",
    "n4 = tNode(\"left grandchild node\")\n",
    "\n",
    "n1.left_child = n2\n",
    "n1.right_child = n3\n",
    "n2.left_child = n4 "
   ]
  },
  {
   "cell_type": "code",
   "execution_count": 8,
   "metadata": {},
   "outputs": [
    {
     "name": "stdout",
     "output_type": "stream",
     "text": [
      "root node\n",
      "left child node\n",
      "left grandchild node\n"
     ]
    }
   ],
   "source": [
    "current = n1\n",
    "while current: \n",
    "    print(current.data)\n",
    "    current = current.left_child"
   ]
  },
  {
   "cell_type": "markdown",
   "metadata": {},
   "source": [
    "<h3>binary search tree</h3>"
   ]
  },
  {
   "cell_type": "code",
   "execution_count": 9,
   "metadata": {},
   "outputs": [],
   "source": [
    "class Tree:\n",
    "    def __init__(self):\n",
    "        self.root_node = None"
   ]
  },
  {
   "cell_type": "markdown",
   "metadata": {},
   "source": [
    "BST operations"
   ]
  },
  {
   "cell_type": "code",
   "execution_count": 10,
   "metadata": {},
   "outputs": [],
   "source": [
    "def find_min(self):\n",
    "    current = self.root_node\n",
    "    while current.left_child:\n",
    "        current = current.left_child\n",
    "    return current\n",
    "\n",
    "def find_max(self):\n",
    "    current = self.root_node\n",
    "    while current.right_child:\n",
    "        current = current.right_child\n",
    "    return current"
   ]
  },
  {
   "cell_type": "markdown",
   "metadata": {},
   "source": [
    "The running time complexity to find the minimum or maximum value in a BST is O(h),\n",
    "where h is the height of the tree."
   ]
  },
  {
   "cell_type": "code",
   "execution_count": 11,
   "metadata": {},
   "outputs": [],
   "source": [
    "def insert(self, data):\n",
    "    node = Node(data)\n",
    "    if self.root_node is None:\n",
    "        self.root_node = node\n",
    "    else:\n",
    "        current = self.root_node\n",
    "        parent = None\n",
    "    while True:\n",
    "        parent = current\n",
    "        if node.data < parent.data:\n",
    "            current = current.left_child\n",
    "            if current is None:\n",
    "                parent.left_child = node\n",
    "                return\n",
    "            else:\n",
    "                current = current.right_child\n",
    "                if current is None:\n",
    "                    parent.right_child = node\n",
    "                    return"
   ]
  },
  {
   "cell_type": "code",
   "execution_count": 12,
   "metadata": {},
   "outputs": [],
   "source": [
    "def get_node_with_parent(self, data):\n",
    "    parent = None\n",
    "    current = self.root_node\n",
    "    if current is None:\n",
    "        return (parent, None)\n",
    "    while True:\n",
    "        if current.data == data:\n",
    "            return (parent, current)\n",
    "        elif current.data > data:\n",
    "            parent = current\n",
    "            current = current.left_child\n",
    "        else:\n",
    "            parent = current\n",
    "            current = current.right_child\n",
    "    return (parent, current)"
   ]
  },
  {
   "cell_type": "code",
   "execution_count": 13,
   "metadata": {},
   "outputs": [],
   "source": [
    "def remove(self, data):\n",
    "    parent, node = self.get_node_with_parent(data)\n",
    "    if parent is None and node is None:\n",
    "        return False\n",
    "    # Get children count\n",
    "    children_count = 0\n",
    "    if node.left_child and node.right_child:\n",
    "        children_count = 2\n",
    "    elif (node.left_child is None) and (node.right_child is None):\n",
    "        children_count = 0\n",
    "    else:\n",
    "        children_count = 1\n",
    "        \n",
    "    if children_count == 0:\n",
    "        if parent:\n",
    "            if parent.right_child is node:\n",
    "                parent.right_child = None\n",
    "            else:\n",
    "                parent.left_child = None\n",
    "        else:\n",
    "            self.root_node = None\n",
    "    \n",
    "    elif children_count == 1:\n",
    "        next_node = None\n",
    "        if node.left_child:\n",
    "            next_node = node.left_child\n",
    "        else:\n",
    "            next_node = node.right_child\n",
    "        if parent:\n",
    "            if parent.left_child is node:\n",
    "                parent.left_child = next_node\n",
    "            else:\n",
    "                parent.right_child = next_node\n",
    "        else:\n",
    "            self.root_node = next_node\n",
    "        \n",
    "    else:\n",
    "        parent_of_leftmost_node = node\n",
    "        leftmost_node = node.right_child\n",
    "        while leftmost_node.left_child:\n",
    "            parent_of_leftmost_node = leftmost_node\n",
    "            leftmost_node = leftmost_node.left_child\n",
    "        node.data = leftmost_node.data\n",
    "        \n",
    "    if parent_of_leftmost_node.left_child == leftmost_node:\n",
    "        parent_of_leftmost_node.left_child = leftmost_node.right_child\n",
    "    else:\n",
    "        parent_of_leftmost_node.right_child = leftmost_node.right_child"
   ]
  },
  {
   "cell_type": "code",
   "execution_count": 14,
   "metadata": {},
   "outputs": [],
   "source": [
    "def search(self, data):\n",
    "    current = self.root_node\n",
    "    while True:\n",
    "        if current is None:\n",
    "            return None\n",
    "        elif current.data is data:\n",
    "            return data\n",
    "        elif current.data > data:\n",
    "            current = current.left_child\n",
    "        else:\n",
    "            current = current.right_child"
   ]
  },
  {
   "cell_type": "code",
   "execution_count": 15,
   "metadata": {},
   "outputs": [
    {
     "ename": "AttributeError",
     "evalue": "'Tree' object has no attribute 'insert'",
     "output_type": "error",
     "traceback": [
      "\u001b[1;31m---------------------------------------------------------------------------\u001b[0m",
      "\u001b[1;31mAttributeError\u001b[0m                            Traceback (most recent call last)",
      "\u001b[1;32mc:\\Users\\Max\\Documents\\PYTHON\\EDyA\\8_2lLists_Queues_Trees.ipynb Cell 23\u001b[0m line \u001b[0;36m2\n\u001b[0;32m      <a href='vscode-notebook-cell:/c%3A/Users/Max/Documents/PYTHON/EDyA/8_2lLists_Queues_Trees.ipynb#X62sZmlsZQ%3D%3D?line=0'>1</a>\u001b[0m tree \u001b[39m=\u001b[39m Tree()\n\u001b[1;32m----> <a href='vscode-notebook-cell:/c%3A/Users/Max/Documents/PYTHON/EDyA/8_2lLists_Queues_Trees.ipynb#X62sZmlsZQ%3D%3D?line=1'>2</a>\u001b[0m tree\u001b[39m.\u001b[39;49minsert(\u001b[39m5\u001b[39m)\n\u001b[0;32m      <a href='vscode-notebook-cell:/c%3A/Users/Max/Documents/PYTHON/EDyA/8_2lLists_Queues_Trees.ipynb#X62sZmlsZQ%3D%3D?line=2'>3</a>\u001b[0m tree\u001b[39m.\u001b[39minsert(\u001b[39m2\u001b[39m)\n\u001b[0;32m      <a href='vscode-notebook-cell:/c%3A/Users/Max/Documents/PYTHON/EDyA/8_2lLists_Queues_Trees.ipynb#X62sZmlsZQ%3D%3D?line=3'>4</a>\u001b[0m tree\u001b[39m.\u001b[39minsert(\u001b[39m7\u001b[39m)\n",
      "\u001b[1;31mAttributeError\u001b[0m: 'Tree' object has no attribute 'insert'"
     ]
    }
   ],
   "source": [
    "tree = Tree()\n",
    "tree.insert(5)\n",
    "tree.insert(2)\n",
    "tree.insert(7)\n",
    "tree.insert(9)\n",
    "tree.insert(1)\n",
    "\n",
    "for i in range(1, 10):\n",
    "    found = tree.search(i)\n",
    "    print(\"{}: {}\".format(i, found))"
   ]
  },
  {
   "cell_type": "markdown",
   "metadata": {},
   "source": [
    "<h1>Bubble sort</h1>"
   ]
  },
  {
   "cell_type": "code",
   "execution_count": null,
   "metadata": {},
   "outputs": [],
   "source": [
    "# bubble sort \n",
    "def bubble_sort(list_a):\n",
    "    indexing_length = len(list_a) - 1 #length of list\n",
    "    sorted = False #we havent sorted yet\n",
    "    while not sorted: #while we havent sorted\n",
    "        sorted = True #we have sorted\n",
    "        for i in range(0, indexing_length): #for each element in list\n",
    "            if list_a[i] > list_a[i+1]: #if the element is greater than the next element\n",
    "                sorted = False #we havent sorted\n",
    "                list_a[i], list_a[i+1] = list_a[i+1], list_a[i] #swap the elements\n",
    "    return list_a #return the sorted list"
   ]
  },
  {
   "cell_type": "markdown",
   "metadata": {},
   "source": [
    "<h1>Insertion sort</h1>"
   ]
  },
  {
   "cell_type": "code",
   "execution_count": null,
   "metadata": {},
   "outputs": [
    {
     "ename": "KeyboardInterrupt",
     "evalue": "",
     "output_type": "error",
     "traceback": [
      "\u001b[1;31m---------------------------------------------------------------------------\u001b[0m",
      "\u001b[1;31mKeyboardInterrupt\u001b[0m                         Traceback (most recent call last)",
      "\u001b[1;32mc:\\Users\\Max\\Documents\\PYTHON\\EDyA\\8_2lLists_Queues_Trees.ipynb Cell 17\u001b[0m line \u001b[0;36m1\n\u001b[0;32m     <a href='vscode-notebook-cell:/c%3A/Users/Max/Documents/PYTHON/EDyA/8_2lLists_Queues_Trees.ipynb#X45sZmlsZQ%3D%3D?line=11'>12</a>\u001b[0m         a[j\u001b[39m+\u001b[39m\u001b[39m1\u001b[39m]\u001b[39m=\u001b[39m temp\n\u001b[0;32m     <a href='vscode-notebook-cell:/c%3A/Users/Max/Documents/PYTHON/EDyA/8_2lLists_Queues_Trees.ipynb#X45sZmlsZQ%3D%3D?line=13'>14</a>\u001b[0m a \u001b[39m=\u001b[39m [\u001b[39m10\u001b[39m, \u001b[39m5\u001b[39m, \u001b[39m13\u001b[39m, \u001b[39m8\u001b[39m, \u001b[39m2\u001b[39m]\n\u001b[1;32m---> <a href='vscode-notebook-cell:/c%3A/Users/Max/Documents/PYTHON/EDyA/8_2lLists_Queues_Trees.ipynb#X45sZmlsZQ%3D%3D?line=14'>15</a>\u001b[0m InsertionSort (a)\n\u001b[0;32m     <a href='vscode-notebook-cell:/c%3A/Users/Max/Documents/PYTHON/EDyA/8_2lLists_Queues_Trees.ipynb#X45sZmlsZQ%3D%3D?line=15'>16</a>\u001b[0m \u001b[39mprint\u001b[39m(\u001b[39m\"\u001b[39m\u001b[39mArray after sorting: \u001b[39m\u001b[39m\"\u001b[39m)\n\u001b[0;32m     <a href='vscode-notebook-cell:/c%3A/Users/Max/Documents/PYTHON/EDyA/8_2lLists_Queues_Trees.ipynb#X45sZmlsZQ%3D%3D?line=16'>17</a>\u001b[0m \u001b[39mprint\u001b[39m(a)\n",
      "\u001b[1;32mc:\\Users\\Max\\Documents\\PYTHON\\EDyA\\8_2lLists_Queues_Trees.ipynb Cell 17\u001b[0m line \u001b[0;36m9\n\u001b[0;32m      <a href='vscode-notebook-cell:/c%3A/Users/Max/Documents/PYTHON/EDyA/8_2lLists_Queues_Trees.ipynb#X45sZmlsZQ%3D%3D?line=4'>5</a>\u001b[0m \u001b[39m# Shift elements of array[0 to i-1], that are\u001b[39;00m\n\u001b[0;32m      <a href='vscode-notebook-cell:/c%3A/Users/Max/Documents/PYTHON/EDyA/8_2lLists_Queues_Trees.ipynb#X45sZmlsZQ%3D%3D?line=5'>6</a>\u001b[0m \u001b[39m#greater than temp, to one position ahead\u001b[39;00m\n\u001b[0;32m      <a href='vscode-notebook-cell:/c%3A/Users/Max/Documents/PYTHON/EDyA/8_2lLists_Queues_Trees.ipynb#X45sZmlsZQ%3D%3D?line=6'>7</a>\u001b[0m \u001b[39m# of their current position\u001b[39;00m\n\u001b[0;32m      <a href='vscode-notebook-cell:/c%3A/Users/Max/Documents/PYTHON/EDyA/8_2lLists_Queues_Trees.ipynb#X45sZmlsZQ%3D%3D?line=7'>8</a>\u001b[0m j\u001b[39m=\u001b[39mi\u001b[39m-\u001b[39m\u001b[39m1\u001b[39m\n\u001b[1;32m----> <a href='vscode-notebook-cell:/c%3A/Users/Max/Documents/PYTHON/EDyA/8_2lLists_Queues_Trees.ipynb#X45sZmlsZQ%3D%3D?line=8'>9</a>\u001b[0m \u001b[39mwhile\u001b[39;00m j \u001b[39m>\u001b[39m\u001b[39m=\u001b[39m\u001b[39m0\u001b[39m \u001b[39mand\u001b[39;00m temp\u001b[39m>\u001b[39ma[j]:               \n\u001b[0;32m     <a href='vscode-notebook-cell:/c%3A/Users/Max/Documents/PYTHON/EDyA/8_2lLists_Queues_Trees.ipynb#X45sZmlsZQ%3D%3D?line=9'>10</a>\u001b[0m     a[j\u001b[39m+\u001b[39m\u001b[39m1\u001b[39m] \u001b[39m=\u001b[39m a[j]\n\u001b[0;32m     <a href='vscode-notebook-cell:/c%3A/Users/Max/Documents/PYTHON/EDyA/8_2lLists_Queues_Trees.ipynb#X45sZmlsZQ%3D%3D?line=10'>11</a>\u001b[0m     j \u001b[39m=\u001b[39m \u001b[39m1\u001b[39m\n",
      "\u001b[1;31mKeyboardInterrupt\u001b[0m: "
     ]
    }
   ],
   "source": [
    "def InsertionSort(a):\n",
    "    # traversing the array from 1 to length of array(a)\n",
    "    for i in range(1, len(a)):\n",
    "        temp = a[i]\n",
    "        # Shift elements of array[0 to i-1], that are\n",
    "        #greater than temp, to one position ahead\n",
    "        # of their current position\n",
    "        j=i-1\n",
    "        while j >=0 and temp>a[j]:               \n",
    "            a[j+1] = a[j]\n",
    "            j = 1\n",
    "        a[j+1]= temp\n",
    "        \n",
    "a = [10, 5, 13, 8, 2]\n",
    "InsertionSort (a)\n",
    "print(\"Array after sorting: \")\n",
    "print(a)"
   ]
  },
  {
   "cell_type": "code",
   "execution_count": null,
   "metadata": {},
   "outputs": [],
   "source": [
    "#insertion sort\n",
    "def insertionSort(arr):\n",
    "    for i in range(1, len(arr)):\n",
    "        key = arr[i]\n",
    "        j = i-1\n",
    "        while j>=0 and key < arr[j]:\n",
    "            arr[j+1] = arr[j]\n",
    "            j -= 1\n",
    "        arr[j+1] = key"
   ]
  },
  {
   "cell_type": "markdown",
   "metadata": {},
   "source": [
    "<h1> EXERCISES - LAB5 </h1>"
   ]
  },
  {
   "cell_type": "markdown",
   "metadata": {},
   "source": [
    "<h3><b>1.</b> Play with doubly-linked list code, enter some data and perform the different operation. Describe your insights.</h3>"
   ]
  },
  {
   "cell_type": "code",
   "execution_count": null,
   "metadata": {},
   "outputs": [],
   "source": [
    "dllist = DoublyLinkedList()\n",
    "for i in [1,2,3,4]: \n",
    "    dllist.append(i)\n"
   ]
  },
  {
   "cell_type": "code",
   "execution_count": null,
   "metadata": {},
   "outputs": [
    {
     "name": "stdout",
     "output_type": "stream",
     "text": [
      "[1, 2, 3, 4]\n",
      "n:  4\n"
     ]
    }
   ],
   "source": [
    "print(list(dllist))\n",
    "print(\"n: \", dllist.count)"
   ]
  },
  {
   "cell_type": "code",
   "execution_count": null,
   "metadata": {},
   "outputs": [
    {
     "name": "stdout",
     "output_type": "stream",
     "text": [
      "5? False\n",
      "3? True\n"
     ]
    }
   ],
   "source": [
    "print(\"5?\", dllist.contains(5))\n",
    "print(\"3?\", dllist.contains(3))"
   ]
  },
  {
   "cell_type": "code",
   "execution_count": null,
   "metadata": {},
   "outputs": [
    {
     "name": "stdout",
     "output_type": "stream",
     "text": [
      "3? False\n",
      "[1, 2, 4]\n",
      "n:  3\n"
     ]
    }
   ],
   "source": [
    "dllist.delete(3)\n",
    "print(\"3?\", dllist.contains(3))\n",
    "print(list(dllist))\n",
    "print(\"n: \", dllist.count)"
   ]
  },
  {
   "cell_type": "code",
   "execution_count": null,
   "metadata": {},
   "outputs": [
    {
     "name": "stdout",
     "output_type": "stream",
     "text": [
      "[1, 2, 4, 3]\n",
      "[1, 2, 4, 3, 7]\n",
      "n:  6\n",
      "7? True\n",
      "[1, 2, 4, 3, 7, 27]\n"
     ]
    }
   ],
   "source": [
    "dllist.append(3)\n",
    "print(list(dllist))\n",
    "dllist.append(7)\n",
    "print(list(dllist))\n",
    "dllist.append(27)\n",
    "print(\"n: \", dllist.count)\n",
    "print(\"7?\",  dllist.contains(7) ) \n",
    "print(list(dllist))"
   ]
  },
  {
   "cell_type": "code",
   "execution_count": null,
   "metadata": {},
   "outputs": [
    {
     "name": "stdout",
     "output_type": "stream",
     "text": [
      "[1, 2, 4, 3, 7, 27, 7, 7, 7]\n",
      "[1, 2, 4, 3, 7, 27, 7, 7]\n"
     ]
    }
   ],
   "source": [
    "dllist.append(7)\n",
    "dllist.append(7)\n",
    "dllist.append(7)\n",
    "\n",
    "print(list(dllist))\n",
    "\n",
    "dllist.delete(7)\n",
    "\n",
    "print(list(dllist))"
   ]
  },
  {
   "cell_type": "markdown",
   "metadata": {},
   "source": [
    "<h3><b>2.</b> Try the media player program, enter music of your preference, and\n",
    "describe what happens.</h3>"
   ]
  },
  {
   "cell_type": "code",
   "execution_count": null,
   "metadata": {},
   "outputs": [],
   "source": [
    "damn = MediaPlayerQueue()\n",
    "\n",
    "damn.add_track(Track(\"BLOOD\"))\n",
    "damn.add_track(Track(\"DNA\"))\n",
    "damn.add_track(Track(\"YAH\"))\n",
    "damn.add_track(Track(\"ELEMENT\"))\n",
    "damn.add_track(Track(\"FEEL\"))\n",
    "damn.add_track(Track(\"LOYALTY\"))\n",
    "damn.add_track(Track(\"PRIDE\"))\n",
    "damn.add_track(Track(\"HUMBLE\"))\n",
    "damn.add_track(Track(\"LUST\"))\n",
    "damn.add_track(Track(\"LOVE\"))\n",
    "damn.add_track(Track(\"XXX\"))\n",
    "damn.add_track(Track(\"FEAR\"))\n",
    "damn.add_track(Track(\"GOD\"))\n",
    "damn.add_track(Track(\"DUCKWORTH\"))"
   ]
  },
  {
   "cell_type": "code",
   "execution_count": null,
   "metadata": {},
   "outputs": [
    {
     "name": "stdout",
     "output_type": "stream",
     "text": [
      "now playing BLOOD, (2s)\n"
     ]
    },
    {
     "name": "stdout",
     "output_type": "stream",
     "text": [
      "now playing DNA, (4s)\n",
      "now playing YAH, (2s)\n",
      "now playing ELEMENT, (3s)\n",
      "now playing FEEL, (2s)\n",
      "now playing LOYALTY, (4s)\n",
      "now playing PRIDE, (3s)\n",
      "now playing HUMBLE, (3s)\n",
      "now playing LUST, (2s)\n",
      "now playing LOVE, (3s)\n",
      "now playing XXX, (4s)\n",
      "now playing FEAR, (4s)\n",
      "now playing GOD, (3s)\n",
      "now playing DUCKWORTH, (4s)\n"
     ]
    }
   ],
   "source": [
    "damn.play()"
   ]
  },
  {
   "cell_type": "markdown",
   "metadata": {},
   "source": [
    "<h3><b>3.</b> Write out the code for traversing the tree by right side. You can use tree from slide 21 to test it.</h3>"
   ]
  },
  {
   "cell_type": "markdown",
   "metadata": {},
   "source": [
    "![Alt text](image.png)"
   ]
  },
  {
   "cell_type": "code",
   "execution_count": null,
   "metadata": {},
   "outputs": [],
   "source": [
    "n0 =   tNode(2)\n",
    "n1_l = tNode(1)\n",
    "n1_r = tNode(4)\n",
    "n2_l = tNode(3)\n",
    "n2_r = tNode(7)\n",
    "n3_r = tNode(20)\n",
    "n4_r = tNode(50)\n",
    "\n",
    "n0.left_child = n1_l\n",
    "n0.right_child = n1_r\n",
    "\n",
    "n1_l.left_child = n2_l\n",
    "n1_r.right_child = n2_r\n",
    "\n",
    "n2_r.right_child = n3_r\n",
    "\n",
    "n3_r.right_child = n4_r"
   ]
  },
  {
   "cell_type": "code",
   "execution_count": null,
   "metadata": {},
   "outputs": [
    {
     "name": "stdout",
     "output_type": "stream",
     "text": [
      "2\n",
      "4\n",
      "7\n",
      "20\n",
      "50\n"
     ]
    }
   ],
   "source": [
    "current = n0\n",
    "while current: \n",
    "    print(current.data)\n",
    "    current = current.right_child"
   ]
  },
  {
   "cell_type": "markdown",
   "metadata": {},
   "source": [
    "<h3><b>4.</b> Provide worst-case and best-case complexity for sorting algorithms reviewed.</h3> \n",
    "\n",
    "<b>Binary search tree: </b>\n",
    "<ul>\n",
    "\t<li>mejor caso: recibe árbol balanceado, O(log n)\n",
    "    <li>peor caso: recibe árbol desbalanceado, O(n)\n",
    "</ul>\n",
    "<b>Bubble sort: </b>\n",
    "<ul>\n",
    "    <li>mejor caso: recibe array ordenado, O(n)\n",
    "    <li>peor caso: recibe array en orden invertido O(n^2)\n",
    "</ul>\n",
    "<b>Insertion sort: </b>\n",
    "<ul>\n",
    "\t<li>mejor caso: recibe array ordenado O(n)\n",
    "\t<li>peor caso: recibe array en orden invertido O(n^2)\n",
    "</ul>"
   ]
  },
  {
   "cell_type": "code",
   "execution_count": null,
   "metadata": {},
   "outputs": [],
   "source": []
  }
 ],
 "metadata": {
  "kernelspec": {
   "display_name": "Python 3",
   "language": "python",
   "name": "python3"
  },
  "language_info": {
   "codemirror_mode": {
    "name": "ipython",
    "version": 3
   },
   "file_extension": ".py",
   "mimetype": "text/x-python",
   "name": "python",
   "nbconvert_exporter": "python",
   "pygments_lexer": "ipython3",
   "version": "3.11.4"
  },
  "orig_nbformat": 4
 },
 "nbformat": 4,
 "nbformat_minor": 2
}
