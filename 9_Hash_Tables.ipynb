{
 "cells": [
  {
   "cell_type": "code",
   "execution_count": 123,
   "metadata": {},
   "outputs": [],
   "source": [
    "def myhash(s):\n",
    "    mult = 1\n",
    "    hv = 0\n",
    "    for ch in s: \n",
    "        hv += mult * ord(ch)\n",
    "        mult += 1 \n",
    "    return hv"
   ]
  },
  {
   "cell_type": "code",
   "execution_count": 124,
   "metadata": {},
   "outputs": [
    {
     "name": "stdout",
     "output_type": "stream",
     "text": [
      "hello world: 6736\n",
      "world hello: 6616\n",
      "gello xorld: 6742\n"
     ]
    }
   ],
   "source": [
    "for item in ('hello world', 'world hello', 'gello xorld'):\n",
    "    print(\"{}: {}\".format(item, myhash(item)))"
   ]
  },
  {
   "cell_type": "markdown",
   "metadata": {},
   "source": [
    " Map every letter to a prime number: a = 2, b = 3, c = 5, d = 7, e = 11, and so on.<br> For a string, the hash function is the sum of all the characters modulo the size of the hash.<br> For example, if your hash size is 10, and the string is ’bag’, the index is 3 + 2 + 17 % 10 = 22 % 10 = 2"
   ]
  },
  {
   "cell_type": "code",
   "execution_count": 125,
   "metadata": {},
   "outputs": [
    {
     "name": "stdout",
     "output_type": "stream",
     "text": [
      "The hash value of 'bag' is 2\n"
     ]
    }
   ],
   "source": [
    "def letter_to_prime(letter):\n",
    "    primes = {'a': 2, 'b': 3, 'c': 5, 'd': 7, 'e': 11, 'f': 13, 'g': 17, 'h': 19, 'i': 23, 'j': 29, 'k': 31, 'l': 37,\n",
    "              'm': 41, 'n': 43, 'o': 47, 'p': 53, 'q': 59, 'r': 61, 's': 67, 't': 71, 'u': 73, 'v': 79, 'w': 83, 'x': 89, 'y': 97, 'z': 101}\n",
    "    return primes.get(letter, 1)  # Return 1 for non-alphabet characters\n",
    "\n",
    "def modulo_hash(input_string, hash_size):\n",
    "    #print(\"total = \")\n",
    "    total = 0\n",
    "    for char in input_string:\n",
    "        total += letter_to_prime(char.lower())\n",
    "        #print(char, \"({})\".format(letter_to_prime(char.lower())))\n",
    "    #print(\"total = \", total)\n",
    "    #print(\"--> {} % {} = {} \".format(total, hash_size, total%hash_size))\n",
    "    return total % hash_size\n",
    "\n",
    "# Example usage:\n",
    "hash_size = 10\n",
    "input_string = 'bag'\n",
    "hash_value = modulo_hash(input_string, hash_size)\n",
    "print(f\"The hash value of '{input_string}' is {hash_value}\")\n"
   ]
  },
  {
   "cell_type": "markdown",
   "metadata": {},
   "source": [
    "Esther, Ben, Bob, and Dan."
   ]
  },
  {
   "cell_type": "code",
   "execution_count": 126,
   "metadata": {},
   "outputs": [
    {
     "name": "stdout",
     "output_type": "stream",
     "text": [
      "Esther: 0\n",
      "Ben: 1\n",
      "Bob: 1\n",
      "Dan: 0\n"
     ]
    }
   ],
   "source": [
    "names = ['Esther', 'Ben', 'Bob', 'Dan']\n",
    "for name in names:\n",
    "    print(\"{}: {}\".format(name, modulo_hash(name, len(names))))"
   ]
  },
  {
   "cell_type": "code",
   "execution_count": 127,
   "metadata": {},
   "outputs": [
    {
     "name": "stdout",
     "output_type": "stream",
     "text": [
      "A: 2\n",
      "AA: 0\n",
      "AAA: 2\n",
      "AAAA: 0\n"
     ]
    }
   ],
   "source": [
    "pilas = ['A', 'AA','AAA', 'AAAA']\n",
    "for pila in pilas:\n",
    "    print(\"{}: {}\".format(pila, modulo_hash(pila, len(pilas))))"
   ]
  },
  {
   "cell_type": "code",
   "execution_count": 128,
   "metadata": {},
   "outputs": [
    {
     "name": "stdout",
     "output_type": "stream",
     "text": [
      "Maus: 0\n",
      "Fun Home: 2\n",
      "Watchmen: 2\n"
     ]
    }
   ],
   "source": [
    "books = ['Maus', 'Fun Home', 'Watchmen']\n",
    "for book in books:\n",
    "    print(\"{}: {}\".format(book, modulo_hash(book, len(books))))"
   ]
  },
  {
   "cell_type": "markdown",
   "metadata": {},
   "source": [
    "<h2>Preventing duplicate entries</h2>"
   ]
  },
  {
   "cell_type": "code",
   "execution_count": 129,
   "metadata": {},
   "outputs": [],
   "source": [
    "voted = {'max':'batman', 'norman':'superman', 'valeria':'superman', \n",
    "         'samuel':'batman', 'asael':'superman', 'alondra':'batman'}\n",
    "def check_voter(name):\n",
    "    if voted.get(name):\n",
    "        print(\"kick them out\")\n",
    "    else: \n",
    "        voted[name] = True\n",
    "        print(\"let them vote!\")\n",
    "    "
   ]
  },
  {
   "cell_type": "code",
   "execution_count": 130,
   "metadata": {},
   "outputs": [
    {
     "name": "stdout",
     "output_type": "stream",
     "text": [
      "let them vote!\n"
     ]
    }
   ],
   "source": [
    "check_voter(\"michel\")"
   ]
  },
  {
   "cell_type": "code",
   "execution_count": 131,
   "metadata": {},
   "outputs": [
    {
     "data": {
      "text/plain": [
       "{'max': 'batman',\n",
       " 'norman': 'superman',\n",
       " 'valeria': 'superman',\n",
       " 'samuel': 'batman',\n",
       " 'asael': 'superman',\n",
       " 'alondra': 'batman',\n",
       " 'michel': True}"
      ]
     },
     "execution_count": 131,
     "metadata": {},
     "output_type": "execute_result"
    }
   ],
   "source": [
    "voted"
   ]
  },
  {
   "cell_type": "markdown",
   "metadata": {},
   "source": [
    "<h2>Playing with hashing: a complete code </h2>"
   ]
  },
  {
   "cell_type": "code",
   "execution_count": 132,
   "metadata": {},
   "outputs": [],
   "source": [
    "class HashItem:\n",
    "    def __init__(self, key, value):\n",
    "        self.key = key\n",
    "        self.value = value \n",
    "\n",
    "class HashTable:\n",
    "    def __init__(self):\n",
    "        self.size = 256\n",
    "        self.slots = [None for i in range(self.size)]\n",
    "        self.count = 0\n",
    "        \n",
    "    def _hash(self, key):\n",
    "        mult = 1\n",
    "        hv = 0 \n",
    "        for ch in key: \n",
    "            hv += mult * ord(ch)\n",
    "            mult += 1 \n",
    "        return hv % self.size \n",
    "    \n",
    "    def put(self, key, value):\n",
    "        item = HashItem(key, value)\n",
    "        h = self._hash(key)\n",
    "        while self.slots[h] is not None:\n",
    "            if self.slots[h].key is key:\n",
    "                break\n",
    "            h = (h + 1) % self.size\n",
    "        if self.slots[h] is None:\n",
    "            self.count += 1 \n",
    "        self.slots[h] = item\n",
    "        \n",
    "    def get(self, key):\n",
    "        h = self._hash(key) #computer hash for the given key\n",
    "        while self.slots[h] is not None: \n",
    "            if self.slots[h].key is key:\n",
    "                return self.slots[h].value\n",
    "            h = (h + 1) % self.size \n",
    "        return None \n",
    "    \n",
    "    # /// --- Using ht[’ ’] instead of ht.get(’ ’) --- ///\n",
    "    def __setitem__(self, key, value):\n",
    "        self.put(key, value)\n",
    "\n",
    "    def __getitem__(self, key):\n",
    "        return self.get(key)\n",
    "    \n",
    "    # /// --- --- --- --- --- --- --- --- ---  --- ///\n"
   ]
  },
  {
   "cell_type": "code",
   "execution_count": 133,
   "metadata": {},
   "outputs": [],
   "source": [
    "ht_1 = HashTable()"
   ]
  },
  {
   "cell_type": "code",
   "execution_count": 134,
   "metadata": {},
   "outputs": [],
   "source": [
    "ht_1.put(\"galletas\", 22)\n",
    "ht_1.put(\"sabritas\", 20)\n",
    "ht_1.put(\"muffin\", 25)\n",
    "ht_1.put(\"cacahuates\", 12)\n",
    "ht_1.put(\"agua\", 12)"
   ]
  },
  {
   "cell_type": "code",
   "execution_count": 135,
   "metadata": {},
   "outputs": [
    {
     "name": "stdout",
     "output_type": "stream",
     "text": [
      "22\n",
      "20\n",
      "25\n",
      "12\n",
      "12\n",
      "None\n"
     ]
    }
   ],
   "source": [
    "for key in (\"galletas\", \"sabritas\", \"muffin\", \"cacahuates\", \"agua\", \"computadora\"):\n",
    "    v = ht_1.get(key)\n",
    "    print(v)"
   ]
  },
  {
   "cell_type": "code",
   "execution_count": 136,
   "metadata": {},
   "outputs": [
    {
     "name": "stdout",
     "output_type": "stream",
     "text": [
      "22\n",
      "20\n",
      "25\n",
      "12\n",
      "12\n",
      "5200\n"
     ]
    }
   ],
   "source": [
    "ht_1.put(\"computadora\", 5200)\n",
    "for key in (\"galletas\", \"sabritas\", \"muffin\", \"cacahuates\", \"agua\", \"computadora\"):\n",
    "    v = ht_1.get(key)\n",
    "    print(v)"
   ]
  },
  {
   "cell_type": "code",
   "execution_count": 137,
   "metadata": {},
   "outputs": [
    {
     "name": "stdout",
     "output_type": "stream",
     "text": [
      "22\n",
      "50\n",
      "25\n",
      "12\n",
      "12\n",
      "5200\n"
     ]
    }
   ],
   "source": [
    "ht_1.put(\"sabritas\", 50)\n",
    "for key in (\"galletas\", \"sabritas\", \"muffin\", \"cacahuates\", \"agua\", \"computadora\"):\n",
    "    v = ht_1.get(key)\n",
    "    print(v)"
   ]
  },
  {
   "cell_type": "markdown",
   "metadata": {},
   "source": [
    "<h3>Using ht[’ ’] instead of ht.get(’ ’)</h3>"
   ]
  },
  {
   "cell_type": "markdown",
   "metadata": {},
   "source": [
    "Now, our test code would be like the following"
   ]
  },
  {
   "cell_type": "code",
   "execution_count": 138,
   "metadata": {},
   "outputs": [],
   "source": [
    "ht_2 = HashTable()"
   ]
  },
  {
   "cell_type": "code",
   "execution_count": 139,
   "metadata": {},
   "outputs": [
    {
     "name": "stdout",
     "output_type": "stream",
     "text": [
      "None\n"
     ]
    }
   ],
   "source": [
    "print(ht_2.get(\"galletas\"))"
   ]
  },
  {
   "cell_type": "code",
   "execution_count": 140,
   "metadata": {},
   "outputs": [],
   "source": [
    "ht_2[\"galletas\"] = 22\n",
    "ht_2[\"sabritas\"] = 20\n",
    "ht_2[\"muffin\"] = 25\n",
    "ht_2[\"cacahuates\"] = 12\n",
    "ht_2[\"agua\"] = 12"
   ]
  },
  {
   "cell_type": "code",
   "execution_count": 141,
   "metadata": {},
   "outputs": [
    {
     "name": "stdout",
     "output_type": "stream",
     "text": [
      "22\n",
      "20\n",
      "25\n",
      "12\n",
      "12\n",
      "None\n"
     ]
    }
   ],
   "source": [
    "for key in (\"galletas\", \"sabritas\", \"muffin\", \"cacahuates\", \"agua\", \"computadora\"):\n",
    "    v = ht_2[key]\n",
    "    print(v)"
   ]
  },
  {
   "cell_type": "code",
   "execution_count": 142,
   "metadata": {},
   "outputs": [
    {
     "name": "stdout",
     "output_type": "stream",
     "text": [
      "22\n",
      "20\n",
      "25\n",
      "12\n",
      "12\n",
      "5200\n"
     ]
    }
   ],
   "source": [
    "ht_2[\"computadora\"] = 5200\n",
    "\n",
    "for key in (\"galletas\", \"sabritas\", \"muffin\", \"cacahuates\", \"agua\", \"computadora\"):\n",
    "    v = ht_2[key]\n",
    "    print(v)"
   ]
  },
  {
   "cell_type": "code",
   "execution_count": 143,
   "metadata": {},
   "outputs": [
    {
     "name": "stdout",
     "output_type": "stream",
     "text": [
      "22\n",
      "50\n",
      "25\n",
      "12\n",
      "12\n",
      "5200\n"
     ]
    }
   ],
   "source": [
    "ht_2[\"sabritas\"] = 50\n",
    "for key in (\"galletas\", \"sabritas\", \"muffin\", \"cacahuates\", \"agua\", \"computadora\"):\n",
    "    v = ht_2[key]\n",
    "    print(v)"
   ]
  },
  {
   "cell_type": "markdown",
   "metadata": {},
   "source": [
    "<h3>Using ht[’ ’] AND ht.get(’ ’)</h3>"
   ]
  },
  {
   "cell_type": "code",
   "execution_count": 144,
   "metadata": {},
   "outputs": [],
   "source": [
    "ht_3 = HashTable()"
   ]
  },
  {
   "cell_type": "code",
   "execution_count": 145,
   "metadata": {},
   "outputs": [],
   "source": [
    "ht_3[\"galletas\"] = 22\n",
    "ht_3.put(\"sabritas\", 20)\n",
    "ht_3[\"muffin\"] = 25\n",
    "ht_3.put(\"cacahuates\", 12)\n",
    "ht_3[\"agua\"] = 12"
   ]
  },
  {
   "cell_type": "code",
   "execution_count": 146,
   "metadata": {},
   "outputs": [
    {
     "name": "stdout",
     "output_type": "stream",
     "text": [
      "22\n",
      "50\n",
      "25\n",
      "12\n",
      "12\n"
     ]
    }
   ],
   "source": [
    "for key in (\"galletas\", \"sabritas\", \"muffin\", \"cacahuates\", \"agua\"):\n",
    "    v = ht_2[key]\n",
    "    print(v)"
   ]
  },
  {
   "cell_type": "code",
   "execution_count": null,
   "metadata": {},
   "outputs": [],
   "source": []
  }
 ],
 "metadata": {
  "kernelspec": {
   "display_name": "Python 3",
   "language": "python",
   "name": "python3"
  },
  "language_info": {
   "codemirror_mode": {
    "name": "ipython",
    "version": 3
   },
   "file_extension": ".py",
   "mimetype": "text/x-python",
   "name": "python",
   "nbconvert_exporter": "python",
   "pygments_lexer": "ipython3",
   "version": "3.11.4"
  },
  "orig_nbformat": 4
 },
 "nbformat": 4,
 "nbformat_minor": 2
}
