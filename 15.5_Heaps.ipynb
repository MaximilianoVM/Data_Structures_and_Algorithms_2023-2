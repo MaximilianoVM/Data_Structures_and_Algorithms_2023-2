{
 "cells": [
  {
   "attachments": {
    "image.png": {
     "image/png": "[encoded data removed]"
    }
   },
   "cell_type": "markdown",
   "metadata": {},
   "source": [
    "![image.png](attachment:image.png)"
   ]
  },
  {
   "cell_type": "code",
   "execution_count": 11,
   "metadata": {},
   "outputs": [],
   "source": [
    "class Heap:\n",
    "    def __init__(self):\n",
    "        self.heap = [0]\n",
    "        self.size = 0\n",
    "        \n",
    "    #/////----- INSERT OPERATION -----/////\n",
    "    #This method ensures that the elements are ordered properly.\n",
    "    def arrange(self, k):\n",
    "        # loop until we have reached the root node\n",
    "        while k // 2 > 0:\n",
    "        #while k > 1:\n",
    "            #Compare between the parent and child.\n",
    "            #If the parent is greater than the child, swap the two values:\n",
    "            if self.heap[k] < self.heap[k//2]:\n",
    "                self.heap[k], self.heap[k//2] = self.heap[k//2], self.heap[k]\n",
    "            #Finally, let's not forget to move up the tree\n",
    "            k //= 2\n",
    "         #we just need to call this from our insert method\n",
    "    \n",
    "    def insert(self, item):\n",
    "        self.heap.append(item)\n",
    "        self.size += 1\n",
    "        #calls the arrange() method to reorganize the heap as necessary.\n",
    "        self.arrange(self.size)\n",
    "    \n",
    "    #/////----- POP OPERATION -----/////\n",
    "    #determine which of the children to compare against the parent node.\n",
    "    def minindex(self, k):\n",
    "        #We may get beyond the end of the list—if we do, then we return the index of the left child:\n",
    "        if k * 2 + 1 > self.size:\n",
    "            return k * 2\n",
    "        #Otherwise, we simply return the index of the lesser of the two children:\n",
    "        elif self.heap[k*2] < self.heap[k*2+1]:\n",
    "            return k * 2\n",
    "        else:\n",
    "            return k * 2 + 1\n",
    "    \n",
    "    def sink(self, k):\n",
    "        #loop so that we can sink our element down as far as is needed:\n",
    "        while k*2 <= self.size:\n",
    "            #which of the left or the right children to compare against \n",
    "            mi = self.minindex(k)\n",
    "            #we compare parent and child to see whether we need to make the swap:\n",
    "            if self.heap[k] > self.heap[mi]:\n",
    "                self.heap[k], self.heap[mi] = self.heap[mi], self.heap[k]\n",
    "            #make sure that we move down the tree, so that we don't get stuck in a loop\n",
    "            k = mi\n",
    "    #implement the main pop() method:\n",
    "    def pop(self):\n",
    "        item = self.heap[1]\n",
    "        self.heap[1] = self.heap[self.size]\n",
    "        self.size -= 1\n",
    "        self.heap.pop()\n",
    "        self.sink(1)\n",
    "        return item\n",
    "    \n",
    "    def heap_sort(self):\n",
    "        sorted_list = []\n",
    "        for node in range(self.size):\n",
    "            n = self.pop()\n",
    "            sorted_list.append(n)\n",
    "        return sorted_list\n",
    "            \n",
    "    "
   ]
  },
  {
   "cell_type": "markdown",
   "metadata": {},
   "source": [
    "<h2>Testing the heap</h2>"
   ]
  },
  {
   "cell_type": "markdown",
   "metadata": {},
   "source": [
    "Now, let's begin by creating the heap and inserting that data, as shown in the following\n",
    "code:"
   ]
  },
  {
   "cell_type": "code",
   "execution_count": 12,
   "metadata": {},
   "outputs": [],
   "source": [
    "h = Heap()\n",
    "for i in (4, 8, 7, 2, 9, 10, 5, 1, 3, 6):\n",
    "    h.insert(i)"
   ]
  },
  {
   "cell_type": "markdown",
   "metadata": {},
   "source": [
    "We can print the heap list, just to inspect how the elements are ordered. If you redraw this\n",
    "as a tree structure, you would notice that it meets the required properties of a heap, similar\n",
    "to what we created manually:"
   ]
  },
  {
   "cell_type": "code",
   "execution_count": 13,
   "metadata": {},
   "outputs": [
    {
     "name": "stdout",
     "output_type": "stream",
     "text": [
      "[0, 1, 2, 5, 3, 6, 10, 7, 8, 4, 9]\n"
     ]
    }
   ],
   "source": [
    "print(h.heap)"
   ]
  },
  {
   "cell_type": "markdown",
   "metadata": {},
   "source": [
    "Now we will pop off the items, one at a time. Notice how the items come out in a sorted\n",
    "order, from lowest to highest. Also, notice how the heap list changes after each pop. The\n",
    "sink() method will reorganize all the items in the heap:"
   ]
  },
  {
   "cell_type": "code",
   "execution_count": 14,
   "metadata": {},
   "outputs": [
    {
     "name": "stdout",
     "output_type": "stream",
     "text": [
      "1\n",
      "[0, 2, 3, 5, 4, 6, 10, 7, 8, 9]\n",
      "2\n",
      "[0, 3, 4, 5, 8, 6, 10, 7, 9]\n",
      "3\n",
      "[0, 4, 6, 5, 8, 9, 10, 7]\n",
      "4\n",
      "[0, 5, 6, 7, 8, 9, 10]\n",
      "5\n",
      "[0, 6, 8, 7, 10, 9]\n",
      "6\n",
      "[0, 7, 8, 9, 10]\n",
      "7\n",
      "[0, 8, 10, 9]\n",
      "8\n",
      "[0, 9, 10]\n",
      "9\n",
      "[0, 10]\n",
      "10\n",
      "[0]\n"
     ]
    }
   ],
   "source": [
    "for i in range(10):\n",
    "    n = h.pop()\n",
    "    print(n)\n",
    "    print(h.heap)"
   ]
  },
  {
   "cell_type": "markdown",
   "metadata": {},
   "source": [
    "We have discussed, in the preceding section, the concepts around using the min-heap, so it\n",
    "should be a simple task to implement a max-heap by simply reversing the logic."
   ]
  },
  {
   "cell_type": "markdown",
   "metadata": {},
   "source": [
    "We will use the min-heap that we discussed here again in Chapter 10, Sorting, on sorting\n",
    "algorithms, and will rewrite the code for sorting the elements in the list. These algorithms\n",
    "are called heap sort algorithms."
   ]
  }
 ],
 "metadata": {
  "kernelspec": {
   "display_name": "Python 3",
   "language": "python",
   "name": "python3"
  },
  "language_info": {
   "codemirror_mode": {
    "name": "ipython",
    "version": 3
   },
   "file_extension": ".py",
   "mimetype": "text/x-python",
   "name": "python",
   "nbconvert_exporter": "python",
   "pygments_lexer": "ipython3",
   "version": "3.11.4"
  }
 },
 "nbformat": 4,
 "nbformat_minor": 2
}
