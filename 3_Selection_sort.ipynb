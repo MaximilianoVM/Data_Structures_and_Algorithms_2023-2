{
 "cells": [
  {
   "cell_type": "markdown",
   "metadata": {},
   "source": [
    "<h1>Selection Sort</h1>"
   ]
  },
  {
   "cell_type": "code",
   "execution_count": 1,
   "metadata": {},
   "outputs": [],
   "source": [
    "from array import * \n",
    "import random"
   ]
  },
  {
   "cell_type": "code",
   "execution_count": 2,
   "metadata": {},
   "outputs": [],
   "source": [
    "def find_smallest(arr):\n",
    "    smallest = arr[0]\n",
    "    smallest_index = 0\n",
    "    for i in range(1, len(arr)):\n",
    "        if arr[i] < smallest:\n",
    "            smallest = arr[i]\n",
    "            smallest_index = i \n",
    "    return smallest_index"
   ]
  },
  {
   "cell_type": "markdown",
   "metadata": {},
   "source": [
    "<h3>función </h3>"
   ]
  },
  {
   "cell_type": "code",
   "execution_count": 3,
   "metadata": {},
   "outputs": [],
   "source": [
    "def selection_sort(arr):\n",
    "    #new_arr = []\n",
    "    if type(arr[0]) == int:\n",
    "        new_arr = array('i', [])\n",
    "    elif type(arr[0]) == float:\n",
    "        new_arr = array('f', [])\n",
    "    elif type(arr[0]) == float and len(arr) == 1:\n",
    "        new_arr = array('u', [])\n",
    "    elif type(arr[0]) == str:      \n",
    "        new_arr = []    \n",
    "        \n",
    "    for i in range(len(arr)):\n",
    "        smallest = find_smallest(arr)\n",
    "        new_arr.append(arr.pop(smallest))\n",
    "    return new_arr"
   ]
  },
  {
   "cell_type": "markdown",
   "metadata": {},
   "source": [
    "<h3> ejemplos </h3>"
   ]
  },
  {
   "cell_type": "code",
   "execution_count": 4,
   "metadata": {},
   "outputs": [],
   "source": [
    "arr1 = array('i', [random.randint(0, 100) for _ in range(20)])\n",
    "arr2 = array('i', [10, 20, 30, 40, 50, 60, 70, 80, 90, 100, 110, 120, 130, 140, 150, 160, 170, 180, 190, 200])\n",
    "arr3 = array('i', [17, 15, 29, 50, 60, 70, 80, 32, 21, 7, 46, 130, 140, 89, 76, 37, 48, 150, 160, 17, 170, 180, 190,])\n",
    "\n",
    "arr_float = array('f', [round( random.uniform(0, 10) , 2) for _ in range(20)])\n",
    "\n",
    "arr_str = ['max', 'elisel', 'norman', 'valeria', 'alondra', 'asael', 'samuel', 'isaac']\n",
    "\n",
    "arr_unic = array('u', 'maxeliselnormanvaleriaalondraasaelsamuelisaac')\n"
   ]
  },
  {
   "cell_type": "code",
   "execution_count": 5,
   "metadata": {},
   "outputs": [
    {
     "name": "stdout",
     "output_type": "stream",
     "text": [
      "========== /////// RESULTADOS /////// ========== \n",
      "\n",
      "_____________________________________\n",
      "array 1: array('i', [86, 7, 20, 12, 63, 83, 38, 15, 79, 87, 72, 90, 95, 27, 43, 44, 70, 25, 28, 32])\n",
      "\n",
      "sorted 1: array('i', [7, 12, 15, 20, 25, 27, 28, 32, 38, 43, 44, 63, 70, 72, 79, 83, 86, 87, 90, 95]) \n",
      "\n",
      "_____________________________________\n",
      "array 2: array('i', [10, 20, 30, 40, 50, 60, 70, 80, 90, 100, 110, 120, 130, 140, 150, 160, 170, 180, 190, 200])\n",
      "\n",
      "sorted 2: array('i', [10, 20, 30, 40, 50, 60, 70, 80, 90, 100, 110, 120, 130, 140, 150, 160, 170, 180, 190, 200]) \n",
      "\n",
      "_____________________________________\n",
      "array 3: array('i', [17, 15, 29, 50, 60, 70, 80, 32, 21, 7, 46, 130, 140, 89, 76, 37, 48, 150, 160, 17, 170, 180, 190])\n",
      "\n",
      "sorted 3: array('i', [7, 15, 17, 17, 21, 29, 32, 37, 46, 48, 50, 60, 70, 76, 80, 89, 130, 140, 150, 160, 170, 180, 190]) \n",
      "\n",
      "_____________________________________\n",
      "float array: array('f', [8.100000381469727, 5.260000228881836, 9.979999542236328, 4.949999809265137, 7.460000038146973, 3.140000104904175, 0.6200000047683716, 7.150000095367432, 9.0600004196167, 4.230000019073486, 6.820000171661377, 1.5199999809265137, 9.130000114440918, 2.6500000953674316, 9.84000015258789, 0.8100000023841858, 0.30000001192092896, 0.9900000095367432, 4.570000171661377, 9.510000228881836])\n",
      "\n",
      "sorted float: array('f', [0.30000001192092896, 0.6200000047683716, 0.8100000023841858, 0.9900000095367432, 1.5199999809265137, 2.6500000953674316, 3.140000104904175, 4.230000019073486, 4.570000171661377, 4.949999809265137, 5.260000228881836, 6.820000171661377, 7.150000095367432, 7.460000038146973, 8.100000381469727, 9.0600004196167, 9.130000114440918, 9.510000228881836, 9.84000015258789, 9.979999542236328]) \n",
      "\n",
      "_____________________________________\n",
      "string array: ['max', 'elisel', 'norman', 'valeria', 'alondra', 'asael', 'samuel', 'isaac']\n",
      "\n",
      "sorted string: ['alondra', 'asael', 'elisel', 'isaac', 'max', 'norman', 'samuel', 'valeria'] \n",
      "\n",
      "_____________________________________\n",
      "unicode array: array('u', 'maxeliselnormanvaleriaalondraasaelsamuelisaac')\n",
      "\n",
      "sorted unicode: ['a', 'a', 'a', 'a', 'a', 'a', 'a', 'a', 'a', 'a', 'a', 'c', 'd', 'e', 'e', 'e', 'e', 'e', 'i', 'i', 'i', 'l', 'l', 'l', 'l', 'l', 'l', 'm', 'm', 'm', 'n', 'n', 'n', 'o', 'o', 'r', 'r', 'r', 's', 's', 's', 's', 'u', 'v', 'x'] \n",
      "\n"
     ]
    }
   ],
   "source": [
    "\n",
    "print('========== /////// RESULTADOS /////// ==========', '\\n')\n",
    "\n",
    "print('_____________________________________')\n",
    "print(\"array 1:\", arr1)\n",
    "sorted_arr1 = selection_sort(arr1)\n",
    "print(\"\\nsorted 1:\", sorted_arr1, '\\n')\n",
    "\n",
    "print('_____________________________________')\n",
    "print(\"array 2:\", arr2)\n",
    "sorted_arr2 = selection_sort(arr2)\n",
    "print(\"\\nsorted 2:\", sorted_arr2, '\\n')\n",
    "\n",
    "print('_____________________________________')\n",
    "print(\"array 3:\", arr3)\n",
    "sorted_arr3 = selection_sort(arr3)\n",
    "print(\"\\nsorted 3:\", sorted_arr3, '\\n')\n",
    "\n",
    "print('_____________________________________')\n",
    "print(\"float array:\", arr_float)\n",
    "sorted_arr_float = selection_sort(arr_float)\n",
    "print(\"\\nsorted float:\", sorted_arr_float, '\\n')\n",
    "\n",
    "print('_____________________________________')\n",
    "print(\"string array:\", arr_str)\n",
    "sorted_arr_str = selection_sort(arr_str)\n",
    "print(\"\\nsorted string:\", sorted_arr_str, '\\n')\n",
    "\n",
    "print('_____________________________________')\n",
    "print(\"unicode array:\", arr_unic)\n",
    "sorted_arr_unic = selection_sort(arr_unic)\n",
    "print(\"\\nsorted unicode:\", sorted_arr_unic, '\\n')"
   ]
  },
  {
   "cell_type": "code",
   "execution_count": null,
   "metadata": {},
   "outputs": [],
   "source": []
  },
  {
   "cell_type": "code",
   "execution_count": null,
   "metadata": {},
   "outputs": [],
   "source": []
  }
 ],
 "metadata": {
  "kernelspec": {
   "display_name": "Python 3",
   "language": "python",
   "name": "python3"
  },
  "language_info": {
   "codemirror_mode": {
    "name": "ipython",
    "version": 3
   },
   "file_extension": ".py",
   "mimetype": "text/x-python",
   "name": "python",
   "nbconvert_exporter": "python",
   "pygments_lexer": "ipython3",
   "version": "3.11.4"
  },
  "orig_nbformat": 4
 },
 "nbformat": 4,
 "nbformat_minor": 2
}
