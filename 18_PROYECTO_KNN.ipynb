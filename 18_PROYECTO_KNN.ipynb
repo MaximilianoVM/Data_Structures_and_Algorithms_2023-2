{
 "cells": [
  {
   "cell_type": "markdown",
   "metadata": {},
   "source": [
    "<h1>EDyA: KNN con heaps</h1>"
   ]
  },
  {
   "cell_type": "markdown",
   "metadata": {},
   "source": [
    "<h3>Heap</h3>"
   ]
  },
  {
   "cell_type": "code",
   "execution_count": 2082,
   "metadata": {},
   "outputs": [],
   "source": [
    "class Heap:\n",
    "    def __init__(self):\n",
    "        self.heap = [(0,'dum')] #lista de [ (  4.242640687119285  ,   ((1, 2), 'A')   ) , (1.4142135623730951, ((5, 6), 'B')) ...] \n",
    "        self.size = 0\n",
    "        \n",
    "    #/////----- INSERT OPERATION -----/////\n",
    "    def arrange(self, k):\n",
    "        #print(\"======arrange K ==\", k)\n",
    "        while k // 2 > 0:\n",
    "            if self.heap[k][0] < self.heap[k//2][0]:\n",
    "                self.heap[k], self.heap[k//2] = self.heap[k//2], self.heap[k]\n",
    "            k //= 2\n",
    "    \n",
    "\n",
    "    def insert(self, item):   # distancias,  [(4.242640687119285, ((1, 2), 'A')), (1.4142135623730951, ((5, 6), 'B')) ...]\n",
    "        self.heap.append(item)\n",
    "        self.size += 1\n",
    "        self.arrange(self.size)\n",
    "    \n",
    "    #/////----- POP OPERATION -----/////\n",
    "    def minindex(self, k):\n",
    "        if k * 2 + 1 > self.size:\n",
    "            return k * 2\n",
    "        elif self.heap[k*2][0] < self.heap[k*2+1][0]:\n",
    "            return k * 2\n",
    "        else:\n",
    "            return k * 2 + 1\n",
    "    \n",
    "    def sink(self, k):\n",
    "        while k*2 <= self.size:\n",
    "            mi = self.minindex(k)\n",
    "            if self.heap[k][0] > self.heap[mi][0]:\n",
    "                self.heap[k], self.heap[mi] = self.heap[mi], self.heap[k]\n",
    "            k = mi\n",
    "\n",
    "    def pop(self):\n",
    "        item = self.heap[1]\n",
    "        self.heap[1] = self.heap[self.size]\n",
    "        self.size -= 1\n",
    "        self.heap.pop()\n",
    "        self.sink(1)\n",
    "        return item\n",
    "    \n",
    "    def heap_sort(self):\n",
    "        sorted_list = []\n",
    "        for node in range(self.size):\n",
    "            n = self.pop()\n",
    "            sorted_list.append(n)\n",
    "        return sorted_list"
   ]
  },
  {
   "cell_type": "markdown",
   "metadata": {},
   "source": [
    "<h3>datillos</h3>"
   ]
  },
  {
   "cell_type": "code",
   "execution_count": 2083,
   "metadata": {},
   "outputs": [],
   "source": [
    "# Datos de prueba con etiquetas de clase\n",
    "puntos = [((1, 2), 'A'), ((5, 7), 'B'), ((3, 3), 'A'), ((9, 8), 'B'), ((2, 7), 'A'), ((6, 5), 'B'), ((6, 4), 'B'), ((3, 6), 'A')]\n",
    "\n",
    "# Punto de prueba\n",
    "punto_prueba = (4, 5)\n",
    "\n",
    "\n",
    "#DISTANCIAS = [ (4, ((1, 2), 'A')) , (1, ((5, 6), 'B')), (7, ((3, 4), 'A')), (2, ((3, 4), 'A')) ] "
   ]
  },
  {
   "cell_type": "code",
   "execution_count": 2084,
   "metadata": {},
   "outputs": [],
   "source": [
    "from matplotlib import pyplot as plt \n",
    "import math\n",
    "import numpy as np\n",
    "from collections import Counter"
   ]
  },
  {
   "cell_type": "code",
   "execution_count": 2085,
   "metadata": {},
   "outputs": [
    {
     "data": {
      "image/png": "[encoded data removed]",
      "text/plain": [
       "<Figure size 640x480 with 1 Axes>"
      ]
     },
     "metadata": {},
     "output_type": "display_data"
    }
   ],
   "source": [
    "# Extraer coordenadas y etiquetas de clase\n",
    "coordenadas, etiquetas = zip(*puntos)\n",
    "coordenadas_x, coordenadas_y = zip(*coordenadas)\n",
    "\n",
    "# Crear un gráfico de dispersión para cada clase\n",
    "plt.scatter(np.array(coordenadas_x)[np.array(etiquetas) == 'A'], np.array(coordenadas_y)[np.array(etiquetas) == 'A'], c='blue', marker='o', label='Clase A')\n",
    "plt.scatter(np.array(coordenadas_x)[np.array(etiquetas) == 'B'], np.array(coordenadas_y)[np.array(etiquetas) == 'B'], c='orange', marker='o', label='Clase B')\n",
    "plt.scatter(*punto_prueba, color='red', marker='x', label='Punto de prueba')\n",
    "\n",
    "# Etiquetas y leyenda\n",
    "plt.title('Gráfico de dispersión')\n",
    "plt.xlabel('Coordenada X')\n",
    "plt.ylabel('Coordenada Y')\n",
    "plt.legend()\n",
    "\n",
    "# Mostrar el gráfico\n",
    "plt.show()"
   ]
  },
  {
   "cell_type": "markdown",
   "metadata": {},
   "source": [
    "<h1>KNN</h1>"
   ]
  },
  {
   "cell_type": "code",
   "execution_count": 2086,
   "metadata": {},
   "outputs": [],
   "source": [
    "# Función para calcular la distancia euclidiana entre dos puntos (x, y)\n",
    "def calcular_distancia(punto1, punto2):\n",
    "    dist = math.sqrt((punto1[0] - punto2[0])**2 + (punto1[1] - punto2[1])**2)\n",
    "    return dist"
   ]
  },
  {
   "cell_type": "code",
   "execution_count": 2087,
   "metadata": {},
   "outputs": [],
   "source": [
    "# Función para encontrar los k vecinos más cercanos a un punto en una lista de puntos\n",
    "def k_vecinos_mas_cercanos(punto, lista_puntos, k):\n",
    "    distancias = [(calcular_distancia(punto, vecino[0]), vecino) for vecino in lista_puntos]\n",
    "    h = Heap()\n",
    "    for vecino in distancias: \n",
    "        h.insert(vecino)\n",
    "        \n",
    "    k_vecinos = h.heap_sort()[:k]\n",
    "\n",
    "    return k_vecinos"
   ]
  },
  {
   "cell_type": "code",
   "execution_count": 2088,
   "metadata": {},
   "outputs": [
    {
     "data": {
      "text/plain": [
       "[(1.4142135623730951, ((3, 6), 'A')),\n",
       " (2.0, ((6, 5), 'B')),\n",
       " (2.23606797749979, ((6, 4), 'B'))]"
      ]
     },
     "execution_count": 2088,
     "metadata": {},
     "output_type": "execute_result"
    }
   ],
   "source": [
    "k_vecinos_mas_cercanos(punto_prueba, puntos, 3)"
   ]
  },
  {
   "cell_type": "code",
   "execution_count": 2089,
   "metadata": {},
   "outputs": [
    {
     "data": {
      "text/plain": [
       "'B'"
      ]
     },
     "execution_count": 2089,
     "metadata": {},
     "output_type": "execute_result"
    }
   ],
   "source": [
    "ayuda = [(1.4142135623730951, ((5, 6), 'B')),\n",
    " (1.4142135623730951, ((3, 4), 'A')),\n",
    " (2.8284271247461903, ((2, 7), 'A'))]\n",
    "\n",
    "ayuda[0][1][1]"
   ]
  },
  {
   "cell_type": "code",
   "execution_count": 2090,
   "metadata": {},
   "outputs": [
    {
     "data": {
      "text/plain": [
       "['B', 'A', 'A']"
      ]
     },
     "execution_count": 2090,
     "metadata": {},
     "output_type": "execute_result"
    }
   ],
   "source": [
    "clases_vecinos_ayuda = [clase[1][1] for clase in ayuda]\n",
    "clases_vecinos_ayuda"
   ]
  },
  {
   "cell_type": "markdown",
   "metadata": {},
   "source": [
    "<h3>funcion predecir clase</h3>"
   ]
  },
  {
   "cell_type": "code",
   "execution_count": 2091,
   "metadata": {},
   "outputs": [],
   "source": [
    "# Función para predecir la clase de un punto basándose en los k vecinos más cercanos\n",
    "def predecir_clase(punto, lista_puntos, k):\n",
    "    vecinos_cercanos = k_vecinos_mas_cercanos(punto, lista_puntos, k)\n",
    "    clases_vecinos = [clase[1][1] for clase in vecinos_cercanos]\n",
    "    counter = Counter(clases_vecinos)\n",
    "    clase_predicha = counter.most_common(2)[0][0]\n",
    "    return clase_predicha"
   ]
  },
  {
   "cell_type": "markdown",
   "metadata": {},
   "source": [
    "<h2>probamos</h2>"
   ]
  },
  {
   "cell_type": "code",
   "execution_count": 2092,
   "metadata": {},
   "outputs": [
    {
     "data": {
      "text/plain": [
       "'A'"
      ]
     },
     "execution_count": 2092,
     "metadata": {},
     "output_type": "execute_result"
    }
   ],
   "source": [
    "# Hiperparámetro k (número de vecinos más cercanos a considerar)\n",
    "k = 1\n",
    "\n",
    "# Predicción de la clase del punto de prueba\n",
    "clase_predicha = predecir_clase(punto_prueba, puntos, k)\n",
    "\n",
    "clase_predicha"
   ]
  },
  {
   "cell_type": "code",
   "execution_count": 2093,
   "metadata": {},
   "outputs": [
    {
     "data": {
      "image/png": "[encoded data removed]",
      "text/plain": [
       "<Figure size 640x480 with 1 Axes>"
      ]
     },
     "metadata": {},
     "output_type": "display_data"
    }
   ],
   "source": [
    "# Crear un gráfico de dispersión para cada clase\n",
    "plt.scatter(np.array(coordenadas_x)[np.array(etiquetas) == 'A'], np.array(coordenadas_y)[np.array(etiquetas) == 'A'], c='blue', marker='o', label='Clase A')\n",
    "plt.scatter(np.array(coordenadas_x)[np.array(etiquetas) == 'B'], np.array(coordenadas_y)[np.array(etiquetas) == 'B'], c='orange', marker='o', label='Clase B')\n",
    "plt.scatter(*punto_prueba, color='red', marker='x', label='Punto de prueba')\n",
    "\n",
    "# Etiquetas y leyenda\n",
    "plt.title('Gráfico de dispersión')\n",
    "plt.xlabel('Coordenada X')\n",
    "plt.ylabel('Coordenada Y')\n",
    "plt.legend()\n",
    "\n",
    "# Mostrar el gráfico\n",
    "plt.show()"
   ]
  },
  {
   "cell_type": "markdown",
   "metadata": {},
   "source": []
  }
 ],
 "metadata": {
  "kernelspec": {
   "display_name": "Python 3",
   "language": "python",
   "name": "python3"
  },
  "language_info": {
   "codemirror_mode": {
    "name": "ipython",
    "version": 3
   },
   "file_extension": ".py",
   "mimetype": "text/x-python",
   "name": "python",
   "nbconvert_exporter": "python",
   "pygments_lexer": "ipython3",
   "version": "3.11.4"
  }
 },
 "nbformat": 4,
 "nbformat_minor": 2
}
