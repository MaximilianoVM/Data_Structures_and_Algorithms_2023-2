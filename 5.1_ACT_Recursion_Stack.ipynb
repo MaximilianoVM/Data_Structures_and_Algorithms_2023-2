{
 "cells": [
  {
   "cell_type": "code",
   "execution_count": 1,
   "metadata": {},
   "outputs": [],
   "source": [
    "class Node:\n",
    "    def __init__(self, data=None):\n",
    "        self.data = data\n",
    "        self.next = None"
   ]
  },
  {
   "cell_type": "code",
   "execution_count": 2,
   "metadata": {},
   "outputs": [],
   "source": [
    "class Stack:\n",
    "    def __init__(self):\n",
    "        self.top = None\n",
    "        self.size = 0\n",
    "    \n",
    "    #PUSH OPERATION\n",
    "    def push(self, data):\n",
    "        node = Node(data)\n",
    "        if self.top:\n",
    "            node.next = self.top\n",
    "            self.top = node\n",
    "            self.size += 1 #AQUI NO SE AUMENTABA ANTES\n",
    "            #print('     STACK + 1')\n",
    "        else:\n",
    "            self.top = node\n",
    "            self.size += 1\n",
    "            #print('     STACK + 1')\n",
    "            \n",
    "    #POP OPERATION \n",
    "    def pop(self):\n",
    "        if self.top:\n",
    "            data = self.top.data\n",
    "            self.size -= 1\n",
    "            #print('     STACK - 1')\n",
    "            if self.top.next:\n",
    "                self.top = self.top.next\n",
    "            else:\n",
    "                self.top = None\n",
    "            return data\n",
    "        else:\n",
    "            return None\n",
    "    \n",
    "    #PEEK OPERATION\n",
    "    def peek(self):\n",
    "        if self.top:\n",
    "            return self.top.data\n",
    "        else:\n",
    "            return None"
   ]
  },
  {
   "cell_type": "markdown",
   "metadata": {},
   "source": [
    "para pruebas: "
   ]
  },
  {
   "cell_type": "code",
   "execution_count": 3,
   "metadata": {},
   "outputs": [],
   "source": [
    "def check_brackets(statement):\n",
    "  #creamos una instancia de la clase Stack\n",
    "  stack = Stack()\n",
    "  #Stack vacío en un principio   \n",
    "  last = None       \n",
    "  #for character in statement\n",
    "  char = 0\n",
    "  for ch in statement:\n",
    "    char += 1\n",
    "    #print('     PEEK:', stack.peek())\n",
    "    #si se encuentra un char de corchetes abiertos\n",
    "    if ch in ['{', '[', '(']:\n",
    "      #este char se añade al stack\n",
    "      #print('   ABIERTO found', ch, 'size', stack.size)\n",
    "      stack.push(ch)\n",
    "      #print('     ', ch, 'size', stack.size)\n",
    "      #stack.size += 1      --->  SE ESTABA AUMENTANDO 2, STACK YA TIENE PARA AUMENTAR SIZE CADA QUE SE HACE PUSH\n",
    "      \n",
    "    #si se encuentra un char de corchetes cerrados\n",
    "    elif ch in ('}', ']', ')'):\n",
    "      #se guarda el ultimo elemento del stack en last, y se borra del stack\n",
    "      #print('   CERRADO found', ch, 'size', stack.size)\n",
    "      last = stack.pop() \n",
    "      #print('     ', ch, 'size', stack.size)\n",
    "      #stack.size -= 1      --->   POP YA TIENE TAMBIEN PARA RESTAR SIZE, NO HACE FALTA HACERLO AQUI ABAJO\n",
    "      \n",
    "      #si dicho ultimo elemento era un corchete abierto y el ultimo caracter encontrado es un corchete cerrado del mismo tipo:\n",
    "      if last == '{' and ch == '}':\n",
    "        continue\n",
    "      elif last == '[' and ch == ']':\n",
    "        continue\n",
    "      elif last == '(' and ch == ')':\n",
    "        continue\n",
    "      else:\n",
    "        return False\n",
    "    #else: \n",
    "      #print('   LETRA found', ch, 'size', stack.size)\n",
    "      \n",
    "  if stack.size > 0:\n",
    "    return False\n",
    "  else:\n",
    "    return True"
   ]
  },
  {
   "cell_type": "markdown",
   "metadata": {},
   "source": [
    "solo explicado: "
   ]
  },
  {
   "cell_type": "code",
   "execution_count": 4,
   "metadata": {},
   "outputs": [],
   "source": [
    "def check_brackets(statement):\n",
    "  #creamos una instancia de la clase Stack\n",
    "  stack = Stack()\n",
    "  #Stack vacío en un principio   \n",
    "  last = None       \n",
    "  char = 0\n",
    "  #for character in statement\n",
    "  for ch in statement:\n",
    "    char += 1\n",
    "    #si se encuentra un char de corchetes abiertos\n",
    "    if ch in ['{', '[', '(']:\n",
    "      #este char se añade al stack\n",
    "      stack.push(ch)\n",
    "      #stack.size += 1      --->  SE ESTABA AUMENTANDO 2, STACK YA TIENE PARA AUMENTAR SIZE CADA QUE SE HACE PUSH\n",
    "      \n",
    "    #si se encuentra un char de corchetes cerrados\n",
    "    elif ch in ('}', ']', ')'):\n",
    "      #se guarda el ultimo elemento del stack en last, y se borra del stack\n",
    "      last = stack.pop() \n",
    "      #stack.size -= 1      --->   POP YA TIENE TAMBIEN PARA RESTAR SIZE, NO HACE FALTA HACERLO AQUI ABAJO\n",
    "      \n",
    "      #si dicho ultimo elemento era un corchete abierto y el ultimo caracter encontrado es un corchete cerrado del mismo tipo:\n",
    "      if last == '{' and ch == '}':\n",
    "        continue\n",
    "      elif last == '[' and ch == ']':\n",
    "        continue\n",
    "      elif last == '(' and ch == ')':\n",
    "        continue\n",
    "      else:\n",
    "        return False\n",
    "    #else: \n",
    "      #print('   LETRA found', ch, 'size', stack.size)\n",
    "      \n",
    "  #si el stack NO ESTA VACIO tendriamos un corchete abierto que no se pudo cerrar\n",
    "  if stack.size > 0:\n",
    "    return False\n",
    "  else:\n",
    "    return True"
   ]
  },
  {
   "cell_type": "code",
   "execution_count": 5,
   "metadata": {},
   "outputs": [
    {
     "name": "stdout",
     "output_type": "stream",
     "text": [
      "{(foo)(bar)}[hello](((this)is)a)test: True\n",
      "{(foo)(bar)}[hello](((this)is)atest: False\n",
      "{(foo)(bar)}[hello](((this)is)a)test)): False\n",
      "(jajajajajja]: False\n"
     ]
    }
   ],
   "source": [
    "sl = (\n",
    "\"{(foo)(bar)}[hello](((this)is)a)test\",\n",
    "\"{(foo)(bar)}[hello](((this)is)atest\",\n",
    "\"{(foo)(bar)}[hello](((this)is)a)test))\", \n",
    "\"(jajajajajja]\"\n",
    ")\n",
    "for s in sl:\n",
    "    m = check_brackets(s)\n",
    "    print(\"{}: {}\".format(s, m))"
   ]
  },
  {
   "cell_type": "code",
   "execution_count": null,
   "metadata": {},
   "outputs": [],
   "source": []
  },
  {
   "cell_type": "code",
   "execution_count": null,
   "metadata": {},
   "outputs": [],
   "source": []
  }
 ],
 "metadata": {
  "kernelspec": {
   "display_name": "Python 3",
   "language": "python",
   "name": "python3"
  },
  "language_info": {
   "codemirror_mode": {
    "name": "ipython",
    "version": 3
   },
   "file_extension": ".py",
   "mimetype": "text/x-python",
   "name": "python",
   "nbconvert_exporter": "python",
   "pygments_lexer": "ipython3",
   "version": "3.11.4"
  },
  "orig_nbformat": 4
 },
 "nbformat": 4,
 "nbformat_minor": 2
}
