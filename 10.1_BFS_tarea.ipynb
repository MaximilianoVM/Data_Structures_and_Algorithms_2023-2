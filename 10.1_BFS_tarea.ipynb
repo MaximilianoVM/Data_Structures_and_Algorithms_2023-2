{
 "cells": [
  {
   "cell_type": "code",
   "execution_count": 29,
   "metadata": {},
   "outputs": [],
   "source": [
    "from collections import deque\n",
    "\n",
    "\n",
    "def breath_first_search(graph, root):\n",
    "    visited_vertices = list()\n",
    "    graph_queue = deque([root])\n",
    "    visited_vertices.append(root)\n",
    "    node = root\n",
    "    \n",
    "    path_list = []\n",
    "    \n",
    "    while len(graph_queue) > 0: \n",
    "        path = []\n",
    "        node = graph_queue.popleft()\n",
    "        adj_nodes = graph[node]\n",
    "        path.append(adj_nodes)\n",
    "        remaining_elemnts = set(adj_nodes).difference(set(visited_vertices))\n",
    "        \n",
    "        if len(remaining_elemnts) > 0: \n",
    "            for elem in sorted(remaining_elemnts):\n",
    "                visited_vertices.append(elem)\n",
    "                graph_queue.append(elem)\n",
    "    \n",
    "    return visited_vertices"
   ]
  },
  {
   "cell_type": "markdown",
   "metadata": {},
   "source": [
    "Run the breadth-first search algorithm on each of these graphs to find the\n",
    "solution: <br>\n",
    "* Find the length of the shortest path from start to finish <br> <br>\n",
    "![Alt text](image-11.png)"
   ]
  },
  {
   "cell_type": "code",
   "execution_count": 30,
   "metadata": {},
   "outputs": [],
   "source": [
    "graph_1 = {}\n",
    "graph_1['S'] = ['a', 'b']\n",
    "graph_1['a'] = ['c', 'F']\n",
    "graph_1['b'] = ['c', 'd']\n",
    "graph_1['c'] = []\n",
    "graph_1['d'] = ['F']"
   ]
  },
  {
   "cell_type": "code",
   "execution_count": 31,
   "metadata": {},
   "outputs": [
    {
     "data": {
      "text/plain": [
       "['a', 'b']"
      ]
     },
     "execution_count": 31,
     "metadata": {},
     "output_type": "execute_result"
    }
   ],
   "source": [
    "graph_1['S']"
   ]
  },
  {
   "cell_type": "markdown",
   "metadata": {},
   "source": [
    "* Find the length of the shortest path from ’cab’ to ’bat’ <br><br>\n",
    "![Alt text](image-10.png)"
   ]
  },
  {
   "cell_type": "code",
   "execution_count": 32,
   "metadata": {},
   "outputs": [],
   "source": [
    "graph_2 = {}\n",
    "graph_2['CAB'] = ['CAT', 'CAR']\n",
    "\n",
    "graph_2['CAT'] = ['MAT', 'BAT']\n",
    "graph_2['CAR'] = ['CAT', 'BAR']\n",
    "\n",
    "graph_2['MAT'] = ['BAT']\n",
    "graph_2['BAT'] = []\n",
    "graph_2['BAR'] = ['BAT']"
   ]
  },
  {
   "cell_type": "code",
   "execution_count": 33,
   "metadata": {},
   "outputs": [
    {
     "ename": "KeyError",
     "evalue": "'F'",
     "output_type": "error",
     "traceback": [
      "\u001b[1;31m---------------------------------------------------------------------------\u001b[0m",
      "\u001b[1;31mKeyError\u001b[0m                                  Traceback (most recent call last)",
      "\u001b[1;32mc:\\Users\\Max\\Documents\\PYTHON\\EDyA\\10.1_BFS_tarea.ipynb Cell 7\u001b[0m line \u001b[0;36m2\n\u001b[0;32m      <a href='vscode-notebook-cell:/c%3A/Users/Max/Documents/PYTHON/EDyA/10.1_BFS_tarea.ipynb#X16sZmlsZQ%3D%3D?line=0'>1</a>\u001b[0m \u001b[39m#shortest path from S to F \u001b[39;00m\n\u001b[1;32m----> <a href='vscode-notebook-cell:/c%3A/Users/Max/Documents/PYTHON/EDyA/10.1_BFS_tarea.ipynb#X16sZmlsZQ%3D%3D?line=1'>2</a>\u001b[0m breath_first_search(graph_1, \u001b[39m'\u001b[39;49m\u001b[39mS\u001b[39;49m\u001b[39m'\u001b[39;49m)\n",
      "\u001b[1;32mc:\\Users\\Max\\Documents\\PYTHON\\EDyA\\10.1_BFS_tarea.ipynb Cell 7\u001b[0m line \u001b[0;36m1\n\u001b[0;32m     <a href='vscode-notebook-cell:/c%3A/Users/Max/Documents/PYTHON/EDyA/10.1_BFS_tarea.ipynb#X16sZmlsZQ%3D%3D?line=12'>13</a>\u001b[0m path \u001b[39m=\u001b[39m []\n\u001b[0;32m     <a href='vscode-notebook-cell:/c%3A/Users/Max/Documents/PYTHON/EDyA/10.1_BFS_tarea.ipynb#X16sZmlsZQ%3D%3D?line=13'>14</a>\u001b[0m node \u001b[39m=\u001b[39m graph_queue\u001b[39m.\u001b[39mpopleft()\n\u001b[1;32m---> <a href='vscode-notebook-cell:/c%3A/Users/Max/Documents/PYTHON/EDyA/10.1_BFS_tarea.ipynb#X16sZmlsZQ%3D%3D?line=14'>15</a>\u001b[0m adj_nodes \u001b[39m=\u001b[39m graph[node]\n\u001b[0;32m     <a href='vscode-notebook-cell:/c%3A/Users/Max/Documents/PYTHON/EDyA/10.1_BFS_tarea.ipynb#X16sZmlsZQ%3D%3D?line=15'>16</a>\u001b[0m path\u001b[39m.\u001b[39mappend(adj_nodes)\n\u001b[0;32m     <a href='vscode-notebook-cell:/c%3A/Users/Max/Documents/PYTHON/EDyA/10.1_BFS_tarea.ipynb#X16sZmlsZQ%3D%3D?line=16'>17</a>\u001b[0m remaining_elemnts \u001b[39m=\u001b[39m \u001b[39mset\u001b[39m(adj_nodes)\u001b[39m.\u001b[39mdifference(\u001b[39mset\u001b[39m(visited_vertices))\n",
      "\u001b[1;31mKeyError\u001b[0m: 'F'"
     ]
    }
   ],
   "source": [
    "#shortest path from S to F \n",
    "breath_first_search(graph_1, 'S')\n"
   ]
  },
  {
   "cell_type": "markdown",
   "metadata": {},
   "source": []
  }
 ],
 "metadata": {
  "kernelspec": {
   "display_name": "Python 3",
   "language": "python",
   "name": "python3"
  },
  "language_info": {
   "codemirror_mode": {
    "name": "ipython",
    "version": 3
   },
   "file_extension": ".py",
   "mimetype": "text/x-python",
   "name": "python",
   "nbconvert_exporter": "python",
   "pygments_lexer": "ipython3",
   "version": "3.11.4"
  },
  "orig_nbformat": 4
 },
 "nbformat": 4,
 "nbformat_minor": 2
}
