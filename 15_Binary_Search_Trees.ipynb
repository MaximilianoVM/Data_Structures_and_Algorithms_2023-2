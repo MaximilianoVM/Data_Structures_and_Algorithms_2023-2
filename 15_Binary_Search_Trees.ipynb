{
 "cells": [
  {
   "cell_type": "markdown",
   "metadata": {},
   "source": [
    "<h1>Binary search tree (BST) </h1>"
   ]
  },
  {
   "cell_type": "code",
   "execution_count": 35,
   "metadata": {},
   "outputs": [],
   "source": [
    "class Node:\n",
    "    def __init__(self, data):\n",
    "        self.data = data\n",
    "        self.right_child = None\n",
    "        self.left_child = None"
   ]
  },
  {
   "cell_type": "code",
   "execution_count": 36,
   "metadata": {},
   "outputs": [
    {
     "name": "stdout",
     "output_type": "stream",
     "text": [
      "root node\n",
      "left child node\n",
      "left grandchild node\n"
     ]
    }
   ],
   "source": [
    "n1 = Node(\"root node\")\n",
    "n2 = Node(\"left child node\")\n",
    "n3 = Node(\"right child node\")\n",
    "n4 = Node(\"left grandchild node\")\n",
    "n1.left_child = n2\n",
    "n1.right_child = n3\n",
    "n2.left_child = n4\n",
    "\n",
    "current = n1\n",
    "while current:\n",
    "    print (current.data)\n",
    "    current = current.left_child"
   ]
  },
  {
   "cell_type": "markdown",
   "metadata": {},
   "source": [
    "<h2>Tree class</h2>"
   ]
  },
  {
   "cell_type": "code",
   "execution_count": 37,
   "metadata": {},
   "outputs": [],
   "source": [
    "class Tree:\n",
    "    def __init__(self):\n",
    "        self.root_node = None\n",
    "    #max and min\n",
    "    def find_min (self):\n",
    "        current = self.root_node\n",
    "        while current.left_child:\n",
    "            current = current.left_child\n",
    "        return current\n",
    "    def find_max (self):\n",
    "        current = self.root_node\n",
    "        while current.right_child:\n",
    "            current = current.right_child\n",
    "        return current\n",
    "    #insert\n",
    "    def insert (self, data):\n",
    "        node = Node(data)\n",
    "        if self.root_node is None:\n",
    "            self.root_node = node\n",
    "        else:\n",
    "            current = self.toot_node\n",
    "            parent = None\n",
    "        while True:\n",
    "            parent = current \n",
    "            if node.data < parent.data:\n",
    "                current = current.left_child\n",
    "                if current is None: \n",
    "                    parent.left_child = node \n",
    "                    return \n",
    "            else: \n",
    "                current = current.right_child \n",
    "                if current is None: \n",
    "                    parent.right_child = node\n",
    "                    return\n",
    "    #searching \n",
    "    def search (self, data):\n",
    "        current = self.root_node\n",
    "        while True:\n",
    "            if current is None:\n",
    "                return None\n",
    "            \n",
    "            elif current.data is data:\n",
    "                return data\n",
    "            elif current.data > data:\n",
    "                current = current.left_child\n",
    "            else:\n",
    "                current = current.right_child\n",
    "    #search parent node\n",
    "    def get_node_with_parent(self, data):\n",
    "        parent = None \n",
    "        current = self.root_node \n",
    "        if current is None: \n",
    "            return (parent, None)\n",
    "        while True: \n",
    "            if current.data == data: \n",
    "                return (parent, current)\n",
    "            elif current.data > data: \n",
    "                parent = current \n",
    "                current = current.left_child\n",
    "            else: \n",
    "                parent = current\n",
    "                current = current.right_child\n",
    "                \n",
    "        return (parent, current)\n",
    "    \n",
    "    #deleting nodes\n",
    "    def remove(self, data):\n",
    "        parent, node = self.get_node_with_parent(data)\n",
    "        \n",
    "        if parent is None and node is None: \n",
    "            return False \n",
    "\n",
    "        #get children count \n",
    "        children_count = 0 \n",
    "        \n",
    "        if node.left_child and node.right_child: \n",
    "            children_count = 2 \n",
    "        elif (node.left_child is None) and (node.right_child is None): \n",
    "            children_count = 0 \n",
    "        else: \n",
    "            children_count = 1 \n",
    "        \n",
    "        if children_count == 0: \n",
    "            if parent: \n",
    "                if parent.right_child is node: \n",
    "                    parent.right_child = None\n",
    "                else: \n",
    "                    parent.left_child = None \n",
    "            else: \n",
    "                self.root_node = None\n",
    "        \n",
    "        elif children_count == 1: \n",
    "            next_node = None \n",
    "            if node.left_child: \n",
    "                next_node = node.left_child\n",
    "            else: \n",
    "                next_node = node.right_child\n",
    "            \n",
    "            if parent: \n",
    "                if parent.left_child is node: \n",
    "                    parent.left_child = next_node\n",
    "                else: \n",
    "                    parent.right_child = next_node\n",
    "            else: \n",
    "                self.root_node = next_node\n",
    "        else:\n",
    "            parent_of_leftmost_node = node \n",
    "            leftmost_node = node.right_child\n",
    "            while leftmost_node.left_child: \n",
    "                parent_of_leftmost_node = leftmost_node\n",
    "                leftmost_node = leftmost_node.left_child\n",
    "            \n",
    "            node.data = leftmost_node.data \n",
    "\n",
    "            if parent_of_leftmost_node.left_child == leftmost_node: \n",
    "                parent_of_leftmost_node.left_child = leftmost_node.right_child\n",
    "            else: \n",
    "                parent_of_leftmost_node.right_child = leftmost_node.right_child\n",
    "                \n",
    "    #//////------   Types of depth-first traversal in trees     ------//////\n",
    "    \n",
    "    #In-order tree traversal\n",
    "    def inorder(self, root_node): \n",
    "        current = root_node\n",
    "        if current is None: return \n",
    "        self.inorder(current.left_child)\n",
    "        print(current.data)\n",
    "        self.inorder(current.right_child)\n",
    "        #* `self` is used to call the `inorder` method on the same object \n",
    "        # (or instance of the class) that the original call was made on.\n",
    "        \n",
    "    #Pre-order tree traversal\n",
    "    def preorder(self, root_node):\n",
    "        current = root_node\n",
    "        if current is None: return \n",
    "        print(current.data)\n",
    "        self.preorder(current.left_child)\n",
    "        self.preorder(current.right_child)\n",
    "        \n",
    "    #Post-order tree traversal\n",
    "    def postorder(self, root_node):\n",
    "        current = root_node\n",
    "        if current is None: return\n",
    "        self.postorder(current.left_child)\n",
    "        self.postorder(current.right_child)\n",
    "        \n",
    "        print(current.data)\n",
    "        "
   ]
  },
  {
   "cell_type": "markdown",
   "metadata": {},
   "source": [
    "<h1>Exercises - LAB9</h1>"
   ]
  },
  {
   "cell_type": "markdown",
   "metadata": {},
   "source": [
    " Generate a binary tree with at least 10 elements. NOTE: This tree could or could not be a BST."
   ]
  },
  {
   "cell_type": "markdown",
   "metadata": {},
   "source": [
    "![Alt text](image-12.png)"
   ]
  },
  {
   "cell_type": "code",
   "execution_count": 38,
   "metadata": {},
   "outputs": [],
   "source": [
    "n1 = Node(10)\n",
    "\n",
    "n2 = Node(6)\n",
    "n3 = Node(15)\n",
    "\n",
    "n4 = Node(4)\n",
    "n5 = Node(8)\n",
    "n6 = Node(12)\n",
    "n7 = Node(17)\n",
    "\n",
    "n8 = Node(3)\n",
    "n9 = Node(5)\n",
    "n10 = Node(7)\n",
    "n11 = Node(9)\n",
    "n12 = Node(16)\n",
    "n13 = Node(18)\n",
    "\n",
    "\n",
    "n1.left_child = n2\n",
    "n1.right_child = n3\n",
    "\n",
    "n2.left_child = n4 \n",
    "n2.right_child = n5\n",
    "\n",
    "n3.left_child = n6 \n",
    "n3.right_child = n7\n",
    "\n",
    "n4.left_child = n8 \n",
    "n4.right_child = n9\n",
    "\n",
    "n5.left_child = n10 \n",
    "n5.right_child = n11\n",
    "\n",
    "n7.left_child = n12\n",
    "n7.right_child = n13"
   ]
  },
  {
   "cell_type": "markdown",
   "metadata": {},
   "source": [
    " Using the before tree, play with different traversal tree: in-order, pre-order and post-order. Compare the obtained results."
   ]
  },
  {
   "cell_type": "code",
   "execution_count": 39,
   "metadata": {},
   "outputs": [],
   "source": [
    "# create an instance of the Tree class\n",
    "my_tree = Tree()\n",
    "\n",
    "# set the root node of the tree\n",
    "my_tree.root_node = n1"
   ]
  },
  {
   "cell_type": "code",
   "execution_count": 40,
   "metadata": {},
   "outputs": [
    {
     "name": "stdout",
     "output_type": "stream",
     "text": [
      "3\n",
      "4\n",
      "5\n",
      "6\n",
      "7\n",
      "8\n",
      "9\n",
      "10\n",
      "12\n",
      "15\n",
      "16\n",
      "17\n",
      "18\n"
     ]
    }
   ],
   "source": [
    "my_tree.inorder(my_tree.root_node)\n"
   ]
  },
  {
   "cell_type": "code",
   "execution_count": 41,
   "metadata": {},
   "outputs": [
    {
     "name": "stdout",
     "output_type": "stream",
     "text": [
      "10\n",
      "6\n",
      "4\n",
      "3\n",
      "5\n",
      "8\n",
      "7\n",
      "9\n",
      "15\n",
      "12\n",
      "17\n",
      "16\n",
      "18\n"
     ]
    }
   ],
   "source": [
    "my_tree.preorder(my_tree.root_node)"
   ]
  },
  {
   "cell_type": "code",
   "execution_count": 42,
   "metadata": {},
   "outputs": [
    {
     "name": "stdout",
     "output_type": "stream",
     "text": [
      "3\n",
      "5\n",
      "4\n",
      "7\n",
      "9\n",
      "8\n",
      "6\n",
      "12\n",
      "16\n",
      "18\n",
      "17\n",
      "15\n",
      "10\n"
     ]
    }
   ],
   "source": [
    "my_tree.postorder(my_tree.root_node)"
   ]
  },
  {
   "cell_type": "code",
   "execution_count": null,
   "metadata": {},
   "outputs": [],
   "source": []
  }
 ],
 "metadata": {
  "kernelspec": {
   "display_name": "Python 3",
   "language": "python",
   "name": "python3"
  },
  "language_info": {
   "codemirror_mode": {
    "name": "ipython",
    "version": 3
   },
   "file_extension": ".py",
   "mimetype": "text/x-python",
   "name": "python",
   "nbconvert_exporter": "python",
   "pygments_lexer": "ipython3",
   "version": "3.11.4"
  },
  "orig_nbformat": 4
 },
 "nbformat": 4,
 "nbformat_minor": 2
}
