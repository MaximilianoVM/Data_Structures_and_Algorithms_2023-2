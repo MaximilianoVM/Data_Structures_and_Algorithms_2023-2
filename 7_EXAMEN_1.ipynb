{
 "cells": [
  {
   "cell_type": "markdown",
   "metadata": {},
   "source": [
    "<h1>EXAMEN 1</h1>"
   ]
  },
  {
   "cell_type": "markdown",
   "metadata": {},
   "source": [
    "<h2>Estructuras: Pilas y Colas</h2>"
   ]
  },
  {
   "cell_type": "markdown",
   "metadata": {},
   "source": [
    "A partir de la implementacion de pila que se ha realizado en laboratorios, <br>implemente una cola (queque). El siguiente diagrama muestra los porcesos generales"
   ]
  },
  {
   "cell_type": "code",
   "execution_count": 170,
   "metadata": {},
   "outputs": [],
   "source": [
    "class Node:\n",
    "    def __init__(self, data=None):\n",
    "        self.data = data\n",
    "        self.next = None\n",
    "        self.prev = None"
   ]
  },
  {
   "cell_type": "code",
   "execution_count": 185,
   "metadata": {},
   "outputs": [],
   "source": [
    "class Queue:\n",
    "    def __init__(self):\n",
    "        self.head = None\n",
    "        self.tail = None\n",
    "        self.size = 0\n",
    "    \n",
    "    #PUSH OPERATION\n",
    "    def enqueue(self, data):\n",
    "        node = Node(data)\n",
    "        \n",
    "        #if self.size ==1: self.head = self.tail #SI SIZE==1, TAIL=HEAD\n",
    "        \n",
    "        if self.tail: #SI HAY ALGO EN TAIL\n",
    "            print('algo en tail')\n",
    "            node.prev = self.tail\n",
    "            self.tail = node\n",
    "            self.size += 1\n",
    "            print(self.size)\n",
    "            \n",
    "        else:         #SI NO HAY NADA EN TAIL\n",
    "            print('nada en tail')\n",
    "            self.tail = node\n",
    "            if self.head.prev:\n",
    "                self.head.prev = self.tail\n",
    "            else: #elif: self.size == 1:\n",
    "                self.head = self.tail\n",
    "            self.size += 1\n",
    "            print(self.size)\n",
    "            #print('     STACK + 1')\n",
    "            \n",
    "    #POP OPERATION \n",
    "    def dequeue(self):\n",
    "        if self.head: #si hay alguien en head (para quitar)\n",
    "            data = self.head.data #data es lo que vamos a devolver\n",
    "            self.size -= 1\n",
    "            \n",
    "            if self.head.prev: #si hay algo despues de head (antes en la cola)\n",
    "                print(self.head.prev)\n",
    "                self.tail = self.tail.prev\n",
    "                self.head = self.head.prev\n",
    "                \n",
    "            else:\n",
    "                print('NOOONE')\n",
    "                self.tail = None\n",
    "                \n",
    "            return data\n",
    "        \n",
    "        else:\n",
    "            return None\n",
    "    \n",
    "    #PEEK OPERATION\n",
    "    def print_tail(self):\n",
    "        if self.tail:\n",
    "            return self.tail.data\n",
    "        else:\n",
    "            return None\n",
    "    def print_head(self):\n",
    "        if self.head:\n",
    "            return self.head.data\n",
    "        else:\n",
    "            return None"
   ]
  },
  {
   "cell_type": "code",
   "execution_count": 186,
   "metadata": {},
   "outputs": [],
   "source": [
    "queue = Queue()"
   ]
  },
  {
   "cell_type": "code",
   "execution_count": 187,
   "metadata": {},
   "outputs": [
    {
     "name": "stdout",
     "output_type": "stream",
     "text": [
      "nada en tail\n"
     ]
    },
    {
     "ename": "AttributeError",
     "evalue": "'NoneType' object has no attribute 'prev'",
     "output_type": "error",
     "traceback": [
      "\u001b[1;31m---------------------------------------------------------------------------\u001b[0m",
      "\u001b[1;31mAttributeError\u001b[0m                            Traceback (most recent call last)",
      "Cell \u001b[1;32mIn[187], line 1\u001b[0m\n\u001b[1;32m----> 1\u001b[0m queue\u001b[39m.\u001b[39;49menqueue(\u001b[39m'\u001b[39;49m\u001b[39mayuda\u001b[39;49m\u001b[39m'\u001b[39;49m)\n\u001b[0;32m      2\u001b[0m queue\u001b[39m.\u001b[39menqueue(\u001b[39m'\u001b[39m\u001b[39mporfavor\u001b[39m\u001b[39m'\u001b[39m)\n\u001b[0;32m      3\u001b[0m queue\u001b[39m.\u001b[39menqueue(\u001b[39m'\u001b[39m\u001b[39mweon\u001b[39m\u001b[39m'\u001b[39m)\n",
      "Cell \u001b[1;32mIn[185], line 23\u001b[0m, in \u001b[0;36mQueue.enqueue\u001b[1;34m(self, data)\u001b[0m\n\u001b[0;32m     21\u001b[0m \u001b[39mprint\u001b[39m(\u001b[39m'\u001b[39m\u001b[39mnada en tail\u001b[39m\u001b[39m'\u001b[39m)\n\u001b[0;32m     22\u001b[0m \u001b[39mself\u001b[39m\u001b[39m.\u001b[39mtail \u001b[39m=\u001b[39m node\n\u001b[1;32m---> 23\u001b[0m \u001b[39mif\u001b[39;00m \u001b[39mself\u001b[39;49m\u001b[39m.\u001b[39;49mhead\u001b[39m.\u001b[39;49mprev:\n\u001b[0;32m     24\u001b[0m     \u001b[39mself\u001b[39m\u001b[39m.\u001b[39mhead\u001b[39m.\u001b[39mprev \u001b[39m=\u001b[39m \u001b[39mself\u001b[39m\u001b[39m.\u001b[39mtail\n\u001b[0;32m     25\u001b[0m \u001b[39melse\u001b[39;00m: \u001b[39m#elif: self.size == 1:\u001b[39;00m\n",
      "\u001b[1;31mAttributeError\u001b[0m: 'NoneType' object has no attribute 'prev'"
     ]
    }
   ],
   "source": [
    "queue.enqueue('ayuda')\n",
    "queue.enqueue('porfavor')\n",
    "queue.enqueue('weon')"
   ]
  },
  {
   "cell_type": "code",
   "execution_count": 184,
   "metadata": {},
   "outputs": [
    {
     "data": {
      "text/plain": [
       "'ayuda'"
      ]
     },
     "execution_count": 184,
     "metadata": {},
     "output_type": "execute_result"
    }
   ],
   "source": [
    "queue.print_tail()"
   ]
  },
  {
   "cell_type": "code",
   "execution_count": 175,
   "metadata": {},
   "outputs": [
    {
     "data": {
      "text/plain": [
       "'ayuda'"
      ]
     },
     "execution_count": 175,
     "metadata": {},
     "output_type": "execute_result"
    }
   ],
   "source": [
    "queue.print_head()"
   ]
  },
  {
   "cell_type": "code",
   "execution_count": 176,
   "metadata": {},
   "outputs": [
    {
     "name": "stdout",
     "output_type": "stream",
     "text": [
      "algo en tail\n",
      "4\n",
      "algo en tail\n",
      "5\n"
     ]
    }
   ],
   "source": [
    "queue.enqueue('JAJAJAJAJa')\n",
    "queue.enqueue('jajaja')"
   ]
  },
  {
   "cell_type": "code",
   "execution_count": 177,
   "metadata": {},
   "outputs": [
    {
     "data": {
      "text/plain": [
       "'jajaja'"
      ]
     },
     "execution_count": 177,
     "metadata": {},
     "output_type": "execute_result"
    }
   ],
   "source": [
    "queue.print_tail()"
   ]
  },
  {
   "cell_type": "code",
   "execution_count": 178,
   "metadata": {},
   "outputs": [
    {
     "data": {
      "text/plain": [
       "'ayuda'"
      ]
     },
     "execution_count": 178,
     "metadata": {},
     "output_type": "execute_result"
    }
   ],
   "source": [
    "queue.print_head()"
   ]
  },
  {
   "cell_type": "code",
   "execution_count": 179,
   "metadata": {},
   "outputs": [
    {
     "name": "stdout",
     "output_type": "stream",
     "text": [
      "NOOONE\n"
     ]
    },
    {
     "data": {
      "text/plain": [
       "'ayuda'"
      ]
     },
     "execution_count": 179,
     "metadata": {},
     "output_type": "execute_result"
    }
   ],
   "source": [
    "queue.dequeue()"
   ]
  },
  {
   "cell_type": "code",
   "execution_count": 180,
   "metadata": {},
   "outputs": [
    {
     "name": "stdout",
     "output_type": "stream",
     "text": [
      "NOOONE\n"
     ]
    },
    {
     "data": {
      "text/plain": [
       "'ayuda'"
      ]
     },
     "execution_count": 180,
     "metadata": {},
     "output_type": "execute_result"
    }
   ],
   "source": [
    "queue.dequeue()"
   ]
  },
  {
   "cell_type": "code",
   "execution_count": null,
   "metadata": {},
   "outputs": [],
   "source": []
  },
  {
   "cell_type": "code",
   "execution_count": null,
   "metadata": {},
   "outputs": [],
   "source": []
  }
 ],
 "metadata": {
  "kernelspec": {
   "display_name": "Python 3",
   "language": "python",
   "name": "python3"
  },
  "language_info": {
   "codemirror_mode": {
    "name": "ipython",
    "version": 3
   },
   "file_extension": ".py",
   "mimetype": "text/x-python",
   "name": "python",
   "nbconvert_exporter": "python",
   "pygments_lexer": "ipython3",
   "version": "3.11.4"
  },
  "orig_nbformat": 4
 },
 "nbformat": 4,
 "nbformat_minor": 2
}
