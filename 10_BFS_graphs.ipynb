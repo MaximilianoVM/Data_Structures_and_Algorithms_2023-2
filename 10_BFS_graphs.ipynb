{
 "cells": [
  {
   "cell_type": "code",
   "execution_count": null,
   "metadata": {},
   "outputs": [],
   "source": []
  },
  {
   "cell_type": "markdown",
   "metadata": {},
   "source": [
    "<h3>/// ------- IMPLEMENTING A GRAPH ------- ///</h3>"
   ]
  },
  {
   "cell_type": "markdown",
   "metadata": {},
   "source": [
    "![Alt text](image-1.png)"
   ]
  },
  {
   "cell_type": "code",
   "execution_count": 1,
   "metadata": {},
   "outputs": [],
   "source": [
    "graph = {}\n",
    "graph[\"you\"] = [\"alice\", \"bob\", \"claire\"]"
   ]
  },
  {
   "cell_type": "markdown",
   "metadata": {},
   "source": [
    "![Alt text](image-2.png)"
   ]
  },
  {
   "cell_type": "code",
   "execution_count": 2,
   "metadata": {},
   "outputs": [],
   "source": [
    "graph = {}\n",
    "graph[\"you\"] = [\"alice\", \"bob\", \"claire\"]\n",
    "graph[\"bob\"] = [\"anuj\", \"peggy\"]\n",
    "graph[\"alice\"] = [\"peggy\"]\n",
    "graph[\"claire\"] = [\"thom\", \"jonny\"]\n",
    "graph[\"anuj\"] = []\n",
    "graph[\"peggy\"] = []\n",
    "graph[\"thom\"] = []\n",
    "graph[\"jonny\"] = []"
   ]
  },
  {
   "cell_type": "code",
   "execution_count": 3,
   "metadata": {},
   "outputs": [
    {
     "data": {
      "text/plain": [
       "['alice', 'bob', 'claire']"
      ]
     },
     "execution_count": 3,
     "metadata": {},
     "output_type": "execute_result"
    }
   ],
   "source": [
    "graph[\"you\"]"
   ]
  },
  {
   "cell_type": "markdown",
   "metadata": {},
   "source": [
    "Make a queue to start. In Python, you use the double endend queue<br> (deque) function for this"
   ]
  },
  {
   "cell_type": "code",
   "execution_count": 4,
   "metadata": {},
   "outputs": [],
   "source": [
    "from collections import deque\n",
    "search_queue = deque() #creates a new queue\n",
    "search_queue += graph[\"you\"] #adds all of your neighbors to the search queue"
   ]
  },
  {
   "cell_type": "code",
   "execution_count": 5,
   "metadata": {},
   "outputs": [
    {
     "data": {
      "text/plain": [
       "deque(['alice', 'bob', 'claire'])"
      ]
     },
     "execution_count": 5,
     "metadata": {},
     "output_type": "execute_result"
    }
   ],
   "source": [
    "search_queue"
   ]
  },
  {
   "cell_type": "markdown",
   "metadata": {},
   "source": [
    "remember, <i>graph[\"you\"]</i> will give you a list of all your <br>\n",
    "neighbors, like <i>[\"alice\", \"bob\", \"claire\"]</i>. Those all get <br>\n",
    "added to the search queue."
   ]
  },
  {
   "cell_type": "markdown",
   "metadata": {},
   "source": [
    "<b>Let's see the rest</b>"
   ]
  },
  {
   "cell_type": "code",
   "execution_count": 6,
   "metadata": {},
   "outputs": [],
   "source": [
    "def person_is_seller(name):\n",
    "    return name[-1] == 'm'"
   ]
  },
  {
   "cell_type": "code",
   "execution_count": 7,
   "metadata": {},
   "outputs": [
    {
     "name": "stdout",
     "output_type": "stream",
     "text": [
      "thomis a mango seller!\n"
     ]
    }
   ],
   "source": [
    "while search_queue: #while queue isn't empty...\n",
    "    person = search_queue.popleft() #grabs the first person off the queue\n",
    "    if person_is_seller(person): #Checks wether rhe person is a mango seller\n",
    "        print(person + \"is a mango seller!\") #yes, they're a mango seller\n",
    "        #return True\n",
    "    else: \n",
    "        search_queue += graph[person] #No, they aren't. Add all of this person's friends to the search queue\n",
    "#return False #if you reached here, no one in the queue was a mango seller"
   ]
  },
  {
   "cell_type": "markdown",
   "metadata": {},
   "source": [
    "<h3>/// ------------- BFS CODE ------------- ///</h3>"
   ]
  },
  {
   "cell_type": "markdown",
   "metadata": {},
   "source": [
    "<b>2. Try running the BFS code changing the person is seller, describe if it prints\n",
    "what you expect (slide 17).</b>\n"
   ]
  },
  {
   "cell_type": "code",
   "execution_count": 8,
   "metadata": {},
   "outputs": [],
   "source": [
    "def person_is_seller_1(name):\n",
    "    return name == 'anuj'"
   ]
  },
  {
   "cell_type": "code",
   "execution_count": 9,
   "metadata": {},
   "outputs": [],
   "source": [
    "def person_is_seller_2(name):\n",
    "    return name == 'max'"
   ]
  },
  {
   "cell_type": "code",
   "execution_count": 10,
   "metadata": {},
   "outputs": [],
   "source": [
    "def person_is_seller_3(name):\n",
    "    return name[0] == 'a'"
   ]
  },
  {
   "cell_type": "markdown",
   "metadata": {},
   "source": [
    "![Alt text](image-4.png)"
   ]
  },
  {
   "cell_type": "code",
   "execution_count": 11,
   "metadata": {},
   "outputs": [],
   "source": [
    "def search(name):\n",
    "    search_queue = deque()\n",
    "    search_queue += graph[name]\n",
    "    searched = [] #this array is how yo keep track of wich people you've searched before\n",
    "    while search_queue:\n",
    "        person = search_queue.popleft()\n",
    "        if not person in searched: #only search this person if you haven't already searched them\n",
    "            if person_is_seller_3(person): \n",
    "                print(person + \" is a mango seller!\")\n",
    "                return True\n",
    "            else: \n",
    "                search_queue += graph[person]\n",
    "                searched.append(person) #marks this person as searched\n",
    "    return False"
   ]
  },
  {
   "cell_type": "code",
   "execution_count": 12,
   "metadata": {},
   "outputs": [
    {
     "name": "stdout",
     "output_type": "stream",
     "text": [
      "alice is a mango seller!\n"
     ]
    },
    {
     "data": {
      "text/plain": [
       "True"
      ]
     },
     "execution_count": 12,
     "metadata": {},
     "output_type": "execute_result"
    }
   ],
   "source": [
    "search(\"you\")"
   ]
  },
  {
   "cell_type": "markdown",
   "metadata": {},
   "source": [
    "<h3>Graph: the code</h3>"
   ]
  },
  {
   "cell_type": "code",
   "execution_count": 13,
   "metadata": {},
   "outputs": [],
   "source": [
    "from collections import deque"
   ]
  },
  {
   "cell_type": "code",
   "execution_count": 14,
   "metadata": {},
   "outputs": [],
   "source": [
    "def breath_first_search(graph, root):\n",
    "    visited_vertices = list()\n",
    "    graph_queue = deque([root])\n",
    "    visited_vertices.append(root)\n",
    "    node = root\n",
    "    \n",
    "    while len(graph_queue) > 0: \n",
    "        node = graph_queue.popleft()\n",
    "        adj_nodes = graph[node]\n",
    "        \n",
    "        remaining_elemnts = set(adj_nodes).difference(set(visited_vertices))\n",
    "        \n",
    "        if len(remaining_elemnts) > 0: \n",
    "            for elem in sorted(remaining_elemnts):\n",
    "                visited_vertices.append(elem)\n",
    "                graph_queue.append(elem)\n",
    "    \n",
    "    return visited_vertices"
   ]
  },
  {
   "cell_type": "code",
   "execution_count": 15,
   "metadata": {},
   "outputs": [
    {
     "data": {
      "text/plain": [
       "['you', 'alice', 'bob', 'claire', 'peggy', 'anuj', 'jonny', 'thom']"
      ]
     },
     "execution_count": 15,
     "metadata": {},
     "output_type": "execute_result"
    }
   ],
   "source": [
    "breath_first_search(graph=graph, root=\"you\")"
   ]
  },
  {
   "cell_type": "code",
   "execution_count": null,
   "metadata": {},
   "outputs": [],
   "source": []
  }
 ],
 "metadata": {
  "kernelspec": {
   "display_name": "Python 3",
   "language": "python",
   "name": "python3"
  },
  "language_info": {
   "codemirror_mode": {
    "name": "ipython",
    "version": 3
   },
   "file_extension": ".py",
   "mimetype": "text/x-python",
   "name": "python",
   "nbconvert_exporter": "python",
   "pygments_lexer": "ipython3",
   "version": "3.11.4"
  },
  "orig_nbformat": 4
 },
 "nbformat": 4,
 "nbformat_minor": 2
}
