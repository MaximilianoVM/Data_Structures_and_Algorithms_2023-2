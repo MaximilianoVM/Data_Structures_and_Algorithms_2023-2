{
 "cells": [
  {
   "cell_type": "code",
   "execution_count": 137,
   "metadata": {},
   "outputs": [],
   "source": [
    "class Heap:\n",
    "    def __init__(self, pac0):\n",
    "        self.heap = [pac0] #lista de objetos paciente, el elemento 0 se lo insertamos \n",
    "        self.size = 0\n",
    "    \n",
    "    def print_heap(self):\n",
    "        for element in self.heap: print(element.name)\n",
    "        \n",
    "    #/////----- INSERT OPERATION -----/////\n",
    "    def arrange(self, k):\n",
    "        print(self.heap[k].name)            #[??? NAMES ?????]\n",
    "        while k // 2 > 0:\n",
    "            if self.heap[k].get_priority() < self.heap[k//2].get_priority(): # ~~~~~~~~~~~!!!!!!\n",
    "                self.heap[k], self.heap[k//2] = self.heap[k//2], self.heap[k]\n",
    "            k //= 2\n",
    "    \n",
    "    def insert(self, item): #item va a ser un objeto paciente\n",
    "        self.heap.append(item)\n",
    "        self.size += 1\n",
    "        #print(self.size)                     #[???? SIZE ????]\n",
    "        #if self.size > 1: self.arrange(self.size)\n",
    "        self.arrange(self.size)\n",
    "    \n",
    "    \n",
    "    \n",
    "    #/////----- POP OPERATION -----/////\n",
    "    def minindex(self, k):\n",
    "        if k * 2 + 1 > self.size:\n",
    "            return k * 2\n",
    "        elif self.heap[k*2] < self.heap[k*2+1]:\n",
    "            return k * 2\n",
    "        else:\n",
    "            return k * 2 + 1\n",
    "    \n",
    "    def sink(self, k):\n",
    "        while k*2 <= self.size:\n",
    "            mi = self.minindex(k)\n",
    "            if self.heap[k] > self.heap[mi]:\n",
    "                self.heap[k], self.heap[mi] = self.heap[mi], self.heap[k]\n",
    "            k = mi\n",
    "            \n",
    "    #implement the main pop() method:\n",
    "    def pop(self):\n",
    "        item = self.heap[1]\n",
    "        self.heap[1] = self.heap[self.size]\n",
    "        self.size -= 1\n",
    "        self.heap.pop()\n",
    "        self.sink(1)\n",
    "        return item\n",
    "            \n",
    "    "
   ]
  },
  {
   "cell_type": "code",
   "execution_count": 138,
   "metadata": {},
   "outputs": [],
   "source": [
    "class Paciente:\n",
    "    # The init method or constructor\n",
    "    def __init__(self, nombre, padecimiento=\"baboso\"):\n",
    "        # Instance Variable\n",
    "        self.name = nombre\n",
    "        self.padecimiento = padecimiento\n",
    "\n",
    "    def get_priority(self):\n",
    "        prioridad = 0\n",
    "        if self.padecimiento == 'nervios' or 'diabetes' or 'cancer': prioridad = 2\n",
    "        elif self.padecimiento == 'gripa': prioridad = 3\n",
    "        elif self.padecimiento == 'herida': prioridad = 4\n",
    "        elif self.padecimiento == 'fractura' or 'parto': prioridad = 5\n",
    "        else: prioridad = 1\n",
    "        \n",
    "        return prioridad"
   ]
  },
  {
   "cell_type": "markdown",
   "metadata": {},
   "source": [
    "prioritarios: nervios, diabetes, cancer, gripa, herida, fractura o parto"
   ]
  },
  {
   "cell_type": "code",
   "execution_count": 139,
   "metadata": {},
   "outputs": [],
   "source": [
    "#pacientes = [{\"max\":'nervios', \"norman\":'gripa', \"samuel\":'fractura', \"raul\":'diabetes'}]\n",
    "#paciente_dumm = Paciente(\"baboso\")\n",
    "paciente1 = Paciente(\"max 2\", \"nervios\")\n",
    "paciente2 = Paciente(\"norman 3\", \"gripa\")\n",
    "paciente3 = Paciente(\"valeria 5\", \"fractura\")\n",
    "paciente4 = Paciente(\"samuel 2\", \"nervios\")\n",
    "paciente5 = Paciente(\"asael 2\", \"diabetes\")\n",
    "paciente6 = Paciente(\"raul 2\", \"diabetes\")\n",
    "\n",
    "#pacientes = [paciente1, paciente2, paciente3, paciente4, paciente5, paciente6]\n",
    "pacientes = [paciente5, paciente4, paciente3, paciente2, paciente1, paciente6]"
   ]
  },
  {
   "cell_type": "code",
   "execution_count": 140,
   "metadata": {},
   "outputs": [
    {
     "name": "stdout",
     "output_type": "stream",
     "text": [
      "asael 2\n",
      "samuel 2\n",
      "valeria 5\n",
      "norman 3\n",
      "max 2\n",
      "raul 2\n"
     ]
    }
   ],
   "source": [
    "h = Heap(Paciente(\"paciente 0\"))\n",
    "#h.insert(Paciente(\"baboso\"))\n",
    "for i in (pacientes):\n",
    "    h.insert(i)"
   ]
  },
  {
   "cell_type": "code",
   "execution_count": 141,
   "metadata": {},
   "outputs": [
    {
     "name": "stdout",
     "output_type": "stream",
     "text": [
      "paciente 0\n",
      "asael 2\n",
      "samuel 2\n",
      "valeria 5\n",
      "norman 3\n",
      "max 2\n",
      "raul 2\n"
     ]
    }
   ],
   "source": [
    "h.print_heap()"
   ]
  },
  {
   "cell_type": "code",
   "execution_count": null,
   "metadata": {},
   "outputs": [],
   "source": []
  }
 ],
 "metadata": {
  "kernelspec": {
   "display_name": "Python 3",
   "language": "python",
   "name": "python3"
  },
  "language_info": {
   "codemirror_mode": {
    "name": "ipython",
    "version": 3
   },
   "file_extension": ".py",
   "mimetype": "text/x-python",
   "name": "python",
   "nbconvert_exporter": "python",
   "pygments_lexer": "ipython3",
   "version": "3.11.4"
  }
 },
 "nbformat": 4,
 "nbformat_minor": 2
}
