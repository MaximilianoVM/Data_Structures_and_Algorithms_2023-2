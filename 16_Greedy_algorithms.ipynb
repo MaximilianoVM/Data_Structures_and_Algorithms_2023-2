{
 "cells": [
  {
   "cell_type": "code",
   "execution_count": null,
   "metadata": {},
   "outputs": [],
   "source": []
  },
  {
   "cell_type": "code",
   "execution_count": 107,
   "metadata": {},
   "outputs": [],
   "source": [
    "states_needed = set([\"mt\", \"wa\", \"or\", \"id\", \"nv\", \"ut\", \"ca\", \"az\"])"
   ]
  },
  {
   "cell_type": "markdown",
   "metadata": {},
   "source": [
    "I used a set for this. A set is like a list, except that each item can show up\n",
    "only once in a set. Sets can’t have duplicates. For example, suppose you\n",
    "had this list:"
   ]
  },
  {
   "cell_type": "code",
   "execution_count": 108,
   "metadata": {},
   "outputs": [],
   "source": [
    "arr = [1, 2, 2, 3, 3, 3]"
   ]
  },
  {
   "cell_type": "markdown",
   "metadata": {},
   "source": [
    "And you converted it to a set:"
   ]
  },
  {
   "cell_type": "code",
   "execution_count": 109,
   "metadata": {},
   "outputs": [
    {
     "data": {
      "text/plain": [
       "{1, 2, 3}"
      ]
     },
     "execution_count": 109,
     "metadata": {},
     "output_type": "execute_result"
    }
   ],
   "source": [
    "set(arr)"
   ]
  },
  {
   "attachments": {
    "image.png": {
     "image/png": "[encoded data removed]"
    }
   },
   "cell_type": "markdown",
   "metadata": {},
   "source": [
    "![image.png](attachment:image.png)"
   ]
  },
  {
   "cell_type": "markdown",
   "metadata": {},
   "source": [
    "You also need the list of stations that you’re choosing from. I chose to\n",
    "use a hash for this:"
   ]
  },
  {
   "cell_type": "code",
   "execution_count": 110,
   "metadata": {},
   "outputs": [],
   "source": [
    "stations = {}\n",
    "stations[\"kone\"] = set([\"id\", \"nv\", \"ut\"])\n",
    "stations[\"ktwo\"] = set([\"wa\", \"id\", \"mt\"])\n",
    "stations[\"kthree\"] = set([\"or\", \"nv\", \"ca\"])\n",
    "stations[\"kfour\"] = set([\"nv\", \"ut\"])\n",
    "stations[\"kfive\"] = set([\"ca\", \"az\"])\n",
    "\n",
    "#Play with the code in slide 16, if you extend the number of stations, what happens?\n",
    "\n",
    "stations[\"ksix\"] = set([\"az\", \"wa\"])\n",
    "stations[\"kseven\"] = set([\"or\", \"wa\", \"id\"])\n",
    "stations[\"keight\"] = set([\"az\", \"ut\"])\n",
    "stations[\"knine\"] = set([\"ca\", \"wa\", \"id\", \"nv\", \"ut\"])\n",
    "stations[\"kten\"] = set([\"or\", \"az\"])\n",
    "\n",
    "#all states\n",
    "stations[\"keleven\"] = set([\"mt\", \"wa\", \"or\", \"id\", \"nv\", \"ut\", \"ca\", \"az\"])"
   ]
  },
  {
   "cell_type": "markdown",
   "metadata": {},
   "source": [
    "The keys are station names, and the values are the states they cover.\n",
    "So in this example, the kone station covers Idaho, Nevada, and Utah.\n",
    "All the values are sets, too. Making everything a set will make your life\n",
    "easier, as you’ll see soon. <br>\n",
    "Finally, you need something to hold the final set of stations you’ll use:"
   ]
  },
  {
   "cell_type": "code",
   "execution_count": 111,
   "metadata": {},
   "outputs": [],
   "source": [
    "final_stations = set()"
   ]
  },
  {
   "cell_type": "markdown",
   "metadata": {},
   "source": [
    "<b> Calculating the answer </b> <br>\n",
    "There can be more than one correct solution. You need to go\n",
    "through every station and pick the one that covers the most\n",
    "uncovered states. I’ll call this <i> best_station: </i>"
   ]
  },
  {
   "attachments": {
    "image.png": {
     "image/png": "[encoded data removed]"
    }
   },
   "cell_type": "markdown",
   "metadata": {},
   "source": [
    "![image.png](attachment:image.png)"
   ]
  },
  {
   "cell_type": "markdown",
   "metadata": {},
   "source": [
    "<i>states_covered</i> is a set of all the states this station covers that\n",
    "haven’t been covered yet. The for loop allows you to loop over\n",
    "every station to see which one is the best station. Let’s look at the body\n",
    "of the for loop:"
   ]
  },
  {
   "cell_type": "code",
   "execution_count": 112,
   "metadata": {},
   "outputs": [],
   "source": [
    "best_station = None\n",
    "states_covered = set()\n",
    "for station, states_for_station in stations.items():\n",
    "    covered = states_needed & states_for_station\n",
    "    if len(covered) > len(states_covered):\n",
    "            best_station = station\n",
    "            states_covered = covered\n",
    "final_stations.add(best_station)\n",
    "states_needed -= states_covered"
   ]
  },
  {
   "cell_type": "markdown",
   "metadata": {},
   "source": [
    "SETS EXAMPLE"
   ]
  },
  {
   "cell_type": "code",
   "execution_count": 113,
   "metadata": {},
   "outputs": [
    {
     "name": "stdout",
     "output_type": "stream",
     "text": [
      "union:  {'avocado', 'carrots', 'beets', 'banana', 'tomato'}\n",
      "intersection:  {'tomato'}\n",
      "difference:  {'avocado', 'banana'}\n",
      "What do you think this will do?:  {'carrots', 'beets'}\n"
     ]
    }
   ],
   "source": [
    "fruits = set([\"avocado\", \"tomato\", \"banana\"])\n",
    "vegetables = set([\"beets\", \"carrots\", \"tomato\"])\n",
    "print(\"union: \", fruits | vegetables) #This is a set union.\n",
    "#set([“avocado”, “beets”, “carrots”, “tomato”, “banana”])\n",
    "print(\"intersection: \", fruits & vegetables) # This is a set intersection.\n",
    "#set([\"tomato\"])\n",
    "print(\"difference: \", fruits - vegetables) # This is a set difference.\n",
    "#set([“avocado”, “banana”])\n",
    "print(\"What do you think this will do?: \", vegetables - fruits) # What do you think this will do?"
   ]
  },
  {
   "cell_type": "markdown",
   "metadata": {},
   "source": [
    "BACK TO THE CODE <br>\n",
    "covered is a set of states that were in both states_needed and\n",
    "states_for_station. So covered is the set of uncovered states\n",
    "that this station covers! Next you check whether this station\n",
    "covers more states than the current best_station:"
   ]
  },
  {
   "cell_type": "code",
   "execution_count": 114,
   "metadata": {},
   "outputs": [
    {
     "data": {
      "text/plain": [
       "'\\nwhile states_needed:\\n    best_station = None\\n    states_covered = set()\\n    for station, states in stations.items():\\n        covered = states_needed & states\\n        if len(covered) > len(states_covered):\\n            best_station = station\\n            states_covered = covered\\n            \\nstates_needed -= states_covered\\nfinal_stations.add(best_station)\\n'"
      ]
     },
     "execution_count": 114,
     "metadata": {},
     "output_type": "execute_result"
    }
   ],
   "source": [
    "'''\n",
    "while states_needed:\n",
    "    best_station = None\n",
    "    states_covered = set()\n",
    "    for station, states in stations.items():\n",
    "        covered = states_needed & states\n",
    "        if len(covered) > len(states_covered):\n",
    "            best_station = station\n",
    "            states_covered = covered\n",
    "            \n",
    "states_needed -= states_covered\n",
    "final_stations.add(best_station)\n",
    "'''"
   ]
  },
  {
   "cell_type": "code",
   "execution_count": 115,
   "metadata": {},
   "outputs": [],
   "source": [
    "#print(final_stations)"
   ]
  },
  {
   "cell_type": "code",
   "execution_count": 116,
   "metadata": {},
   "outputs": [
    {
     "name": "stdout",
     "output_type": "stream",
     "text": [
      "{'kone', 'ktwo', 'kfive', 'kthree'}\n"
     ]
    }
   ],
   "source": [
    "states_needed = set([\"mt\", \"wa\", \"or\", \"id\", \"nv\", \"ut\", \"ca\", \"az\"])\n",
    "\n",
    "stations = {}\n",
    "stations[\"kone\"] = set([\"id\", \"nv\", \"ut\"])\n",
    "stations[\"ktwo\"] = set([\"wa\", \"id\", \"mt\"])\n",
    "stations[\"kthree\"] = set([\"or\", \"nv\", \"ca\"])\n",
    "stations[\"kfour\"] = set([\"nv\", \"ut\"])\n",
    "stations[\"kfive\"] = set([\"ca\", \"az\"])\n",
    "\n",
    "\n",
    "final_stations = set()\n",
    "\n",
    "\n",
    "best_station = None\n",
    "states_covered = set()\n",
    "for station, states_for_station in stations.items():\n",
    "    covered = states_needed & states_for_station\n",
    "    if len(covered) > len(states_covered):\n",
    "            best_station = station\n",
    "            states_covered = covered\n",
    "final_stations.add(best_station)\n",
    "states_needed -= states_covered\n",
    "\n",
    "while states_needed:\n",
    "    best_station = None\n",
    "    states_covered = set()\n",
    "    for station, states in stations.items():\n",
    "        covered = states_needed & states\n",
    "        if len(covered) > len(states_covered):\n",
    "            best_station = station\n",
    "            states_covered = covered\n",
    "    #\n",
    "    #if best_station is not None:\n",
    "    states_needed -= states_covered\n",
    "    final_stations.add(best_station)\n",
    "    stations.pop(best_station)\n",
    "    #else:\n",
    "    #    print(\"None\")\n",
    "\n",
    "\n",
    "#print(states_needed, stations)\n",
    "print(final_stations)\n",
    "\n",
    "\n",
    "#states_needed -= states_covered\n",
    "#final_stations.add(best_station)"
   ]
  },
  {
   "cell_type": "markdown",
   "metadata": {},
   "source": [
    "before :\n",
    "    {'kone', 'ktwo', 'kfive', 'kthree'}\n",
    "\n",
    "after: \n",
    "    {'kone', 'ktwo', 'kfive', 'kthree'}\n"
   ]
  },
  {
   "cell_type": "code",
   "execution_count": null,
   "metadata": {},
   "outputs": [],
   "source": []
  },
  {
   "cell_type": "code",
   "execution_count": null,
   "metadata": {},
   "outputs": [],
   "source": []
  }
 ],
 "metadata": {
  "kernelspec": {
   "display_name": "Python 3",
   "language": "python",
   "name": "python3"
  },
  "language_info": {
   "codemirror_mode": {
    "name": "ipython",
    "version": 3
   },
   "file_extension": ".py",
   "mimetype": "text/x-python",
   "name": "python",
   "nbconvert_exporter": "python",
   "pygments_lexer": "ipython3",
   "version": "3.11.4"
  }
 },
 "nbformat": 4,
 "nbformat_minor": 2
}
