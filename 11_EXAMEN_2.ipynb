{
 "cells": [
  {
   "cell_type": "code",
   "execution_count": 185,
   "metadata": {},
   "outputs": [],
   "source": [
    "class Node: \n",
    "    def __init__(self, data):\n",
    "        self.data = data \n",
    "        self.right_child = None \n",
    "        self.left_child = None "
   ]
  },
  {
   "cell_type": "markdown",
   "metadata": {},
   "source": [
    "<h2>Creamos el arbol</h2>"
   ]
  },
  {
   "cell_type": "markdown",
   "metadata": {},
   "source": [
    "![Alt text](image-12.png)"
   ]
  },
  {
   "cell_type": "code",
   "execution_count": 186,
   "metadata": {},
   "outputs": [
    {
     "data": {
      "text/plain": [
       "'\\nn8.left_child = None \\nn8.right_child = None\\n\\nn9.left_child = None\\nn9.right_child = None\\n\\nn10.left_child = None \\nn10.right_child = None\\n\\nn11.left_child = None\\nn11.right_child = None\\n\\nn12.left_child = None \\nn12.right_child = None\\n\\nn13.left_child = None \\nn13.right_child = None\\n'"
      ]
     },
     "execution_count": 186,
     "metadata": {},
     "output_type": "execute_result"
    }
   ],
   "source": [
    "n1 = Node(10)\n",
    "\n",
    "n2 = Node(6)\n",
    "n3 = Node(15)\n",
    "\n",
    "n4 = Node(4)\n",
    "n5 = Node(8)\n",
    "n6 = Node(12)\n",
    "n7 = Node(17)\n",
    "\n",
    "n8 = Node(3)\n",
    "n9 = Node(5)\n",
    "n10 = Node(7)\n",
    "n11 = Node(9)\n",
    "n12 = Node(16)\n",
    "n13 = Node(18)\n",
    "\n",
    "\n",
    "n1.left_child = n2\n",
    "n1.right_child = n3\n",
    "\n",
    "n2.left_child = n4 \n",
    "n2.right_child = n5\n",
    "\n",
    "n3.left_child = n6 \n",
    "n3.right_child = n7\n",
    "\n",
    "n4.left_child = n8 \n",
    "n4.right_child = n9\n",
    "\n",
    "n5.left_child = n10 \n",
    "n5.right_child = n11\n",
    "'''\n",
    "n6.left_child = None \n",
    "n6.right_child = None\n",
    "'''\n",
    "n7.left_child = n12\n",
    "n7.right_child = n13\n",
    "\n",
    "'''\n",
    "n8.left_child = None \n",
    "n8.right_child = None\n",
    "\n",
    "n9.left_child = None\n",
    "n9.right_child = None\n",
    "\n",
    "n10.left_child = None \n",
    "n10.right_child = None\n",
    "\n",
    "n11.left_child = None\n",
    "n11.right_child = None\n",
    "\n",
    "n12.left_child = None \n",
    "n12.right_child = None\n",
    "\n",
    "n13.left_child = None \n",
    "n13.right_child = None\n",
    "'''\n"
   ]
  },
  {
   "cell_type": "code",
   "execution_count": 187,
   "metadata": {},
   "outputs": [
    {
     "name": "stdout",
     "output_type": "stream",
     "text": [
      "10\n",
      "15\n",
      "17\n",
      "18\n"
     ]
    }
   ],
   "source": [
    "current = n1\n",
    "while current: \n",
    "    print(current.data)\n",
    "    current = current.right_child"
   ]
  },
  {
   "cell_type": "markdown",
   "metadata": {},
   "source": [
    "<h2>Definimos search</h2>"
   ]
  },
  {
   "cell_type": "code",
   "execution_count": 188,
   "metadata": {},
   "outputs": [
    {
     "name": "stdout",
     "output_type": "stream",
     "text": [
      "10\n",
      "6\n",
      "4\n",
      "5\n",
      "\n",
      "el elemento 5 SI se encuentra en el arbol\n"
     ]
    }
   ],
   "source": [
    "def search(root_node, to_find):\n",
    "    current = root_node\n",
    "    found = False\n",
    "    while current: \n",
    "        print(current.data)\n",
    "        \n",
    "        if to_find == current.data: \n",
    "            found = True\n",
    "            print(\"\\nel elemento {} SI se encuentra en el arbol\".format(to_find))\n",
    "            break\n",
    "        if to_find < current.data: \n",
    "            current = current.left_child\n",
    "\n",
    "        elif to_find > current.data: \n",
    "            current = current.right_child\n",
    "\n",
    "    if found == False: \n",
    "        print(\"\\nel elemento {} NO se encuentra en el arbol\".format(to_find))\n",
    "\n",
    "\n",
    "search(n1, 5)"
   ]
  },
  {
   "cell_type": "markdown",
   "metadata": {},
   "source": [
    "<h2>Definimos insert</h2>"
   ]
  },
  {
   "cell_type": "code",
   "execution_count": 189,
   "metadata": {},
   "outputs": [],
   "source": [
    "def insert(root_node, to_insert):\n",
    "    current = root_node\n",
    "    n_new = Node(to_insert)\n",
    "    #n_new.left_child = None\n",
    "    #n_new.right_child = None\n",
    "    \n",
    "    while current: \n",
    "        print(current.data)\n",
    "        \n",
    "        if to_insert == current.data: \n",
    "            print(\"\\nel elemento {} YA SE ENCUENTRA en el arbol\".format(to_insert))\n",
    "            break\n",
    "        if to_insert < current.data: \n",
    "            if current.left_child == None: \n",
    "                current.left_child = n_new\n",
    "                print(current.left_child.data)\n",
    "                break\n",
    "            else:     \n",
    "                current = current.left_child\n",
    "                \n",
    "        elif to_insert > current.data: \n",
    "            if current.right_child == None: \n",
    "                current.right_child = n_new\n",
    "                print(current.right_child.data)\n",
    "                break\n",
    "            else:     \n",
    "                current = current.right_child\n",
    "\n"
   ]
  },
  {
   "cell_type": "markdown",
   "metadata": {},
   "source": [
    "SEARCH ANTES DE INSERTAR"
   ]
  },
  {
   "cell_type": "code",
   "execution_count": 190,
   "metadata": {},
   "outputs": [
    {
     "name": "stdout",
     "output_type": "stream",
     "text": [
      "10\n",
      "15\n",
      "12\n",
      "\n",
      "el elemento 13 NO se encuentra en el arbol\n"
     ]
    }
   ],
   "source": [
    "search(n1, 13)"
   ]
  },
  {
   "cell_type": "markdown",
   "metadata": {},
   "source": [
    "INSERTAR"
   ]
  },
  {
   "cell_type": "code",
   "execution_count": 191,
   "metadata": {},
   "outputs": [
    {
     "name": "stdout",
     "output_type": "stream",
     "text": [
      "10\n",
      "15\n",
      "12\n",
      "13\n"
     ]
    }
   ],
   "source": [
    "insert(n1, 13)"
   ]
  },
  {
   "cell_type": "markdown",
   "metadata": {},
   "source": [
    "SEARCH DESPUES DE INSERTAR"
   ]
  },
  {
   "cell_type": "code",
   "execution_count": 192,
   "metadata": {},
   "outputs": [
    {
     "name": "stdout",
     "output_type": "stream",
     "text": [
      "10\n",
      "15\n",
      "12\n",
      "13\n",
      "\n",
      "el elemento 13 SI se encuentra en el arbol\n"
     ]
    }
   ],
   "source": [
    "search(n1, 13)"
   ]
  },
  {
   "cell_type": "markdown",
   "metadata": {},
   "source": [
    "<h2>Simule un ingreso a una red social</h2>"
   ]
  },
  {
   "cell_type": "markdown",
   "metadata": {},
   "source": [
    "<h3>Creamos el arbol</h3>"
   ]
  },
  {
   "cell_type": "markdown",
   "metadata": {},
   "source": [
    "![Alt text](image-13.png)"
   ]
  },
  {
   "cell_type": "code",
   "execution_count": 193,
   "metadata": {},
   "outputs": [],
   "source": [
    "n1 = Node(\"Max\")\n",
    "\n",
    "n2 = Node(\"Alondra\")\n",
    "n3 = Node(\"Norman\")\n",
    "\n",
    "n4 = Node(\"Ajolote\")\n",
    "n5 = Node(\"Amigo\")\n",
    "n6 = Node(\"Michel\")\n",
    "n7 = Node(\"Raul\")\n",
    "\n",
    "#n8 = Node(\"Luis\")\n",
    "n9 = Node(\"Samuel\")\n",
    "\n",
    "\n",
    "n1.left_child = n2\n",
    "n1.right_child = n3\n",
    "\n",
    "n2.left_child = n4 \n",
    "n2.right_child = n5\n",
    "\n",
    "n3.left_child = n6 \n",
    "n3.right_child = n7\n",
    "\n",
    "'''\n",
    "n4.left_child = None \n",
    "n4.right_child = None\n",
    "\n",
    "n5.left_child = None\n",
    "n5.right_child = None\n",
    "\n",
    "n6.left_child = None \n",
    "n6.right_child = None\n",
    "\n",
    "n7.left_child = None\n",
    "'''\n",
    "n7.right_child = n9\n",
    "\n",
    "#n8.left_child = None \n",
    "\n"
   ]
  },
  {
   "cell_type": "code",
   "execution_count": 194,
   "metadata": {},
   "outputs": [
    {
     "name": "stdout",
     "output_type": "stream",
     "text": [
      "Max\n",
      "Norman\n",
      "Raul\n",
      "Samuel\n"
     ]
    }
   ],
   "source": [
    "current = n1\n",
    "while current: \n",
    "    print(current.data)\n",
    "    current = current.right_child"
   ]
  },
  {
   "cell_type": "markdown",
   "metadata": {},
   "source": [
    "<h3>Probando las funciones</h3>"
   ]
  },
  {
   "cell_type": "code",
   "execution_count": 195,
   "metadata": {},
   "outputs": [
    {
     "name": "stdout",
     "output_type": "stream",
     "text": [
      "Max\n",
      "Norman\n",
      "Michel\n",
      "\n",
      "el elemento Michel SI se encuentra en el arbol\n"
     ]
    }
   ],
   "source": [
    "search(n1, \"Michel\")"
   ]
  },
  {
   "cell_type": "code",
   "execution_count": 196,
   "metadata": {},
   "outputs": [
    {
     "name": "stdout",
     "output_type": "stream",
     "text": [
      "Max\n",
      "Alondra\n",
      "Amigo\n",
      "\n",
      "el elemento Luis NO se encuentra en el arbol\n"
     ]
    }
   ],
   "source": [
    "search(n1, \"Luis\")"
   ]
  },
  {
   "cell_type": "code",
   "execution_count": 197,
   "metadata": {},
   "outputs": [
    {
     "name": "stdout",
     "output_type": "stream",
     "text": [
      "Max\n",
      "Alondra\n",
      "Amigo\n",
      "Luis\n"
     ]
    }
   ],
   "source": [
    "insert(n1, \"Luis\")"
   ]
  },
  {
   "cell_type": "code",
   "execution_count": 198,
   "metadata": {},
   "outputs": [
    {
     "name": "stdout",
     "output_type": "stream",
     "text": [
      "Max\n",
      "Alondra\n",
      "Amigo\n",
      "Luis\n",
      "\n",
      "el elemento Luis SI se encuentra en el arbol\n"
     ]
    }
   ],
   "source": [
    "search(n1, \"Luis\")"
   ]
  },
  {
   "cell_type": "code",
   "execution_count": 199,
   "metadata": {},
   "outputs": [
    {
     "name": "stdout",
     "output_type": "stream",
     "text": [
      "Max\n",
      "Alondra\n",
      "Amigo\n",
      "Luis\n",
      "Karina\n"
     ]
    }
   ],
   "source": [
    "insert(n1, \"Karina\")"
   ]
  },
  {
   "cell_type": "code",
   "execution_count": 200,
   "metadata": {},
   "outputs": [
    {
     "name": "stdout",
     "output_type": "stream",
     "text": [
      "Max\n",
      "Alondra\n",
      "Amigo\n",
      "Luis\n",
      "Karina\n",
      "\n",
      "el elemento Karina SI se encuentra en el arbol\n"
     ]
    }
   ],
   "source": [
    "search(n1, \"Karina\")"
   ]
  },
  {
   "cell_type": "code",
   "execution_count": null,
   "metadata": {},
   "outputs": [],
   "source": []
  }
 ],
 "metadata": {
  "kernelspec": {
   "display_name": "Python 3",
   "language": "python",
   "name": "python3"
  },
  "language_info": {
   "codemirror_mode": {
    "name": "ipython",
    "version": 3
   },
   "file_extension": ".py",
   "mimetype": "text/x-python",
   "name": "python",
   "nbconvert_exporter": "python",
   "pygments_lexer": "ipython3",
   "version": "3.11.4"
  },
  "orig_nbformat": 4
 },
 "nbformat": 4,
 "nbformat_minor": 2
}
